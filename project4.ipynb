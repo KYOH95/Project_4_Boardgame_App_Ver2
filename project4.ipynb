{
  "nbformat": 4,
  "nbformat_minor": 0,
  "metadata": {
    "colab": {
      "provenance": [],
      "toc_visible": true,
      "authorship_tag": "ABX9TyNGDc0t+LqWov+nHgD2ixOF",
      "include_colab_link": true
    },
    "kernelspec": {
      "name": "python3",
      "display_name": "Python 3"
    },
    "language_info": {
      "name": "python"
    }
  },
  "cells": [
    {
      "cell_type": "markdown",
      "metadata": {
        "id": "view-in-github",
        "colab_type": "text"
      },
      "source": [
        "<a href=\"https://colab.research.google.com/github/KYOH95/Project_4_Boardgame_App_Ver2/blob/main/project4.ipynb\" target=\"_parent\"><img src=\"https://colab.research.google.com/assets/colab-badge.svg\" alt=\"Open In Colab\"/></a>"
      ]
    },
    {
      "cell_type": "markdown",
      "source": [
        "## 0. 구글 드라이브로부터 데이터 불러오기"
      ],
      "metadata": {
        "id": "bnVx0jmO9ZD6"
      }
    },
    {
      "cell_type": "code",
      "execution_count": 11,
      "metadata": {
        "colab": {
          "base_uri": "https://localhost:8080/"
        },
        "id": "WkTc_zFF4T7M",
        "outputId": "12b2660f-ce1b-4675-8063-1aa8928f8805"
      },
      "outputs": [
        {
          "output_type": "stream",
          "name": "stdout",
          "text": [
            "Drive already mounted at /content/drive; to attempt to forcibly remount, call drive.mount(\"/content/drive\", force_remount=True).\n"
          ]
        }
      ],
      "source": [
        "from google.colab import drive\n",
        "drive.mount('/content/drive')"
      ]
    },
    {
      "cell_type": "code",
      "source": [
        "import pandas as pd\n",
        "import os\n",
        "\n",
        "#데이터 세트(캐글): https://www.kaggle.com/datasets/extralime/20000-boardgames-dataset\n",
        "dir = './drive/MyDrive/Project4'\n",
        "filename = os.listdir(dir)\n",
        "\n",
        "csv_path = os.path.join(dir, filename[0])\n",
        "df = pd.read_csv(csv_path)\n",
        "df.head(3)"
      ],
      "metadata": {
        "colab": {
          "base_uri": "https://localhost:8080/",
          "height": 497
        },
        "id": "NjOObZh66Frl",
        "outputId": "4e857e4f-be07-437f-95b3-915397338bd4"
      },
      "execution_count": 12,
      "outputs": [
        {
          "output_type": "stream",
          "name": "stderr",
          "text": [
            "/usr/local/lib/python3.7/dist-packages/IPython/core/interactiveshell.py:3326: DtypeWarning: Columns (29,48) have mixed types.Specify dtype option on import or set low_memory=False.\n",
            "  exec(code_obj, self.user_global_ns, self.user_ns)\n"
          ]
        },
        {
          "output_type": "execute_result",
          "data": {
            "text/plain": [
              "   Unnamed: 0       type     id  \\\n",
              "0           0  boardgame  30549   \n",
              "1           1  boardgame    822   \n",
              "2           2  boardgame     13   \n",
              "\n",
              "                                           thumbnail  \\\n",
              "0  https://cf.geekdo-images.com/S3ybV1LAp-8SnHIXL...   \n",
              "1  https://cf.geekdo-images.com/okM0dq_bEXnbyQTOv...   \n",
              "2  https://cf.geekdo-images.com/W3Bsga_uLP9kO91gZ...   \n",
              "\n",
              "                                               image      primary  \\\n",
              "0  https://cf.geekdo-images.com/S3ybV1LAp-8SnHIXL...     Pandemic   \n",
              "1  https://cf.geekdo-images.com/okM0dq_bEXnbyQTOv...  Carcassonne   \n",
              "2  https://cf.geekdo-images.com/W3Bsga_uLP9kO91gZ...        Catan   \n",
              "\n",
              "                                           alternate  \\\n",
              "0  ['EPIZOotic', 'Pandemia', 'Pandemia 10 Anivers...   \n",
              "1  ['Carcassonne Jubilee Edition', 'Carcassonne: ...   \n",
              "2  ['CATAN', 'Catan (Колонизаторы)', 'Catan telep...   \n",
              "\n",
              "                                         description  yearpublished  \\\n",
              "0  In Pandemic, several virulent diseases have br...           2008   \n",
              "1  Carcassonne is a tile-placement game in which ...           2000   \n",
              "2  In CATAN (formerly The Settlers of Catan), pla...           1995   \n",
              "\n",
              "   minplayers  ...  War Game Rank Customizable Rank Children's Game Rank  \\\n",
              "0           2  ...            NaN               NaN                  NaN   \n",
              "1           2  ...            NaN               NaN                  NaN   \n",
              "2           3  ...            NaN               NaN                  NaN   \n",
              "\n",
              "  RPG Item Rank  Accessory Rank  Video Game Rank  Amiga Rank  \\\n",
              "0           NaN             NaN              NaN         NaN   \n",
              "1           NaN             NaN              NaN         NaN   \n",
              "2           NaN             NaN              NaN         NaN   \n",
              "\n",
              "   Commodore 64 Rank Arcade Rank Atari ST Rank  \n",
              "0                NaN         NaN           NaN  \n",
              "1                NaN         NaN           NaN  \n",
              "2                NaN         NaN           NaN  \n",
              "\n",
              "[3 rows x 56 columns]"
            ],
            "text/html": [
              "\n",
              "  <div id=\"df-47b1b8f7-6ca6-4223-9876-4c4c66b7ea95\">\n",
              "    <div class=\"colab-df-container\">\n",
              "      <div>\n",
              "<style scoped>\n",
              "    .dataframe tbody tr th:only-of-type {\n",
              "        vertical-align: middle;\n",
              "    }\n",
              "\n",
              "    .dataframe tbody tr th {\n",
              "        vertical-align: top;\n",
              "    }\n",
              "\n",
              "    .dataframe thead th {\n",
              "        text-align: right;\n",
              "    }\n",
              "</style>\n",
              "<table border=\"1\" class=\"dataframe\">\n",
              "  <thead>\n",
              "    <tr style=\"text-align: right;\">\n",
              "      <th></th>\n",
              "      <th>Unnamed: 0</th>\n",
              "      <th>type</th>\n",
              "      <th>id</th>\n",
              "      <th>thumbnail</th>\n",
              "      <th>image</th>\n",
              "      <th>primary</th>\n",
              "      <th>alternate</th>\n",
              "      <th>description</th>\n",
              "      <th>yearpublished</th>\n",
              "      <th>minplayers</th>\n",
              "      <th>...</th>\n",
              "      <th>War Game Rank</th>\n",
              "      <th>Customizable Rank</th>\n",
              "      <th>Children's Game Rank</th>\n",
              "      <th>RPG Item Rank</th>\n",
              "      <th>Accessory Rank</th>\n",
              "      <th>Video Game Rank</th>\n",
              "      <th>Amiga Rank</th>\n",
              "      <th>Commodore 64 Rank</th>\n",
              "      <th>Arcade Rank</th>\n",
              "      <th>Atari ST Rank</th>\n",
              "    </tr>\n",
              "  </thead>\n",
              "  <tbody>\n",
              "    <tr>\n",
              "      <th>0</th>\n",
              "      <td>0</td>\n",
              "      <td>boardgame</td>\n",
              "      <td>30549</td>\n",
              "      <td>https://cf.geekdo-images.com/S3ybV1LAp-8SnHIXL...</td>\n",
              "      <td>https://cf.geekdo-images.com/S3ybV1LAp-8SnHIXL...</td>\n",
              "      <td>Pandemic</td>\n",
              "      <td>['EPIZOotic', 'Pandemia', 'Pandemia 10 Anivers...</td>\n",
              "      <td>In Pandemic, several virulent diseases have br...</td>\n",
              "      <td>2008</td>\n",
              "      <td>2</td>\n",
              "      <td>...</td>\n",
              "      <td>NaN</td>\n",
              "      <td>NaN</td>\n",
              "      <td>NaN</td>\n",
              "      <td>NaN</td>\n",
              "      <td>NaN</td>\n",
              "      <td>NaN</td>\n",
              "      <td>NaN</td>\n",
              "      <td>NaN</td>\n",
              "      <td>NaN</td>\n",
              "      <td>NaN</td>\n",
              "    </tr>\n",
              "    <tr>\n",
              "      <th>1</th>\n",
              "      <td>1</td>\n",
              "      <td>boardgame</td>\n",
              "      <td>822</td>\n",
              "      <td>https://cf.geekdo-images.com/okM0dq_bEXnbyQTOv...</td>\n",
              "      <td>https://cf.geekdo-images.com/okM0dq_bEXnbyQTOv...</td>\n",
              "      <td>Carcassonne</td>\n",
              "      <td>['Carcassonne Jubilee Edition', 'Carcassonne: ...</td>\n",
              "      <td>Carcassonne is a tile-placement game in which ...</td>\n",
              "      <td>2000</td>\n",
              "      <td>2</td>\n",
              "      <td>...</td>\n",
              "      <td>NaN</td>\n",
              "      <td>NaN</td>\n",
              "      <td>NaN</td>\n",
              "      <td>NaN</td>\n",
              "      <td>NaN</td>\n",
              "      <td>NaN</td>\n",
              "      <td>NaN</td>\n",
              "      <td>NaN</td>\n",
              "      <td>NaN</td>\n",
              "      <td>NaN</td>\n",
              "    </tr>\n",
              "    <tr>\n",
              "      <th>2</th>\n",
              "      <td>2</td>\n",
              "      <td>boardgame</td>\n",
              "      <td>13</td>\n",
              "      <td>https://cf.geekdo-images.com/W3Bsga_uLP9kO91gZ...</td>\n",
              "      <td>https://cf.geekdo-images.com/W3Bsga_uLP9kO91gZ...</td>\n",
              "      <td>Catan</td>\n",
              "      <td>['CATAN', 'Catan (Колонизаторы)', 'Catan telep...</td>\n",
              "      <td>In CATAN (formerly The Settlers of Catan), pla...</td>\n",
              "      <td>1995</td>\n",
              "      <td>3</td>\n",
              "      <td>...</td>\n",
              "      <td>NaN</td>\n",
              "      <td>NaN</td>\n",
              "      <td>NaN</td>\n",
              "      <td>NaN</td>\n",
              "      <td>NaN</td>\n",
              "      <td>NaN</td>\n",
              "      <td>NaN</td>\n",
              "      <td>NaN</td>\n",
              "      <td>NaN</td>\n",
              "      <td>NaN</td>\n",
              "    </tr>\n",
              "  </tbody>\n",
              "</table>\n",
              "<p>3 rows × 56 columns</p>\n",
              "</div>\n",
              "      <button class=\"colab-df-convert\" onclick=\"convertToInteractive('df-47b1b8f7-6ca6-4223-9876-4c4c66b7ea95')\"\n",
              "              title=\"Convert this dataframe to an interactive table.\"\n",
              "              style=\"display:none;\">\n",
              "        \n",
              "  <svg xmlns=\"http://www.w3.org/2000/svg\" height=\"24px\"viewBox=\"0 0 24 24\"\n",
              "       width=\"24px\">\n",
              "    <path d=\"M0 0h24v24H0V0z\" fill=\"none\"/>\n",
              "    <path d=\"M18.56 5.44l.94 2.06.94-2.06 2.06-.94-2.06-.94-.94-2.06-.94 2.06-2.06.94zm-11 1L8.5 8.5l.94-2.06 2.06-.94-2.06-.94L8.5 2.5l-.94 2.06-2.06.94zm10 10l.94 2.06.94-2.06 2.06-.94-2.06-.94-.94-2.06-.94 2.06-2.06.94z\"/><path d=\"M17.41 7.96l-1.37-1.37c-.4-.4-.92-.59-1.43-.59-.52 0-1.04.2-1.43.59L10.3 9.45l-7.72 7.72c-.78.78-.78 2.05 0 2.83L4 21.41c.39.39.9.59 1.41.59.51 0 1.02-.2 1.41-.59l7.78-7.78 2.81-2.81c.8-.78.8-2.07 0-2.86zM5.41 20L4 18.59l7.72-7.72 1.47 1.35L5.41 20z\"/>\n",
              "  </svg>\n",
              "      </button>\n",
              "      \n",
              "  <style>\n",
              "    .colab-df-container {\n",
              "      display:flex;\n",
              "      flex-wrap:wrap;\n",
              "      gap: 12px;\n",
              "    }\n",
              "\n",
              "    .colab-df-convert {\n",
              "      background-color: #E8F0FE;\n",
              "      border: none;\n",
              "      border-radius: 50%;\n",
              "      cursor: pointer;\n",
              "      display: none;\n",
              "      fill: #1967D2;\n",
              "      height: 32px;\n",
              "      padding: 0 0 0 0;\n",
              "      width: 32px;\n",
              "    }\n",
              "\n",
              "    .colab-df-convert:hover {\n",
              "      background-color: #E2EBFA;\n",
              "      box-shadow: 0px 1px 2px rgba(60, 64, 67, 0.3), 0px 1px 3px 1px rgba(60, 64, 67, 0.15);\n",
              "      fill: #174EA6;\n",
              "    }\n",
              "\n",
              "    [theme=dark] .colab-df-convert {\n",
              "      background-color: #3B4455;\n",
              "      fill: #D2E3FC;\n",
              "    }\n",
              "\n",
              "    [theme=dark] .colab-df-convert:hover {\n",
              "      background-color: #434B5C;\n",
              "      box-shadow: 0px 1px 3px 1px rgba(0, 0, 0, 0.15);\n",
              "      filter: drop-shadow(0px 1px 2px rgba(0, 0, 0, 0.3));\n",
              "      fill: #FFFFFF;\n",
              "    }\n",
              "  </style>\n",
              "\n",
              "      <script>\n",
              "        const buttonEl =\n",
              "          document.querySelector('#df-47b1b8f7-6ca6-4223-9876-4c4c66b7ea95 button.colab-df-convert');\n",
              "        buttonEl.style.display =\n",
              "          google.colab.kernel.accessAllowed ? 'block' : 'none';\n",
              "\n",
              "        async function convertToInteractive(key) {\n",
              "          const element = document.querySelector('#df-47b1b8f7-6ca6-4223-9876-4c4c66b7ea95');\n",
              "          const dataTable =\n",
              "            await google.colab.kernel.invokeFunction('convertToInteractive',\n",
              "                                                     [key], {});\n",
              "          if (!dataTable) return;\n",
              "\n",
              "          const docLinkHtml = 'Like what you see? Visit the ' +\n",
              "            '<a target=\"_blank\" href=https://colab.research.google.com/notebooks/data_table.ipynb>data table notebook</a>'\n",
              "            + ' to learn more about interactive tables.';\n",
              "          element.innerHTML = '';\n",
              "          dataTable['output_type'] = 'display_data';\n",
              "          await google.colab.output.renderOutput(dataTable, element);\n",
              "          const docLink = document.createElement('div');\n",
              "          docLink.innerHTML = docLinkHtml;\n",
              "          element.appendChild(docLink);\n",
              "        }\n",
              "      </script>\n",
              "    </div>\n",
              "  </div>\n",
              "  "
            ]
          },
          "metadata": {},
          "execution_count": 12
        }
      ]
    },
    {
      "cell_type": "code",
      "source": [
        "df.shape"
      ],
      "metadata": {
        "colab": {
          "base_uri": "https://localhost:8080/"
        },
        "id": "862EBFaP68XE",
        "outputId": "1dc1769f-c31a-4306-8450-beb2737e08c3"
      },
      "execution_count": 13,
      "outputs": [
        {
          "output_type": "execute_result",
          "data": {
            "text/plain": [
              "(21631, 56)"
            ]
          },
          "metadata": {},
          "execution_count": 13
        }
      ]
    },
    {
      "cell_type": "markdown",
      "source": [
        "##1. 데이터 전처리"
      ],
      "metadata": {
        "id": "1hjtsFmb929o"
      }
    },
    {
      "cell_type": "markdown",
      "source": [
        "####1-1. 불필요한 컬럼(특성) 제거"
      ],
      "metadata": {
        "id": "qHT9ctR69775"
      }
    },
    {
      "cell_type": "code",
      "source": [
        "#make meaningful dataframe with valualble columns from the whole dataset\n",
        "df = df[[\"id\",\"thumbnail\",\"image\",\"primary\",\"description\",\"yearpublished\",\"minplayers\",\"maxplayers\",\"playingtime\",\"minplaytime\",\n",
        "    \"maxplaytime\",\"minage\",\"boardgamecategory\",\"usersrated\",\"average\",\"Board Game Rank\",\"averageweight\"]]\n",
        "df.shape"
      ],
      "metadata": {
        "colab": {
          "base_uri": "https://localhost:8080/"
        },
        "id": "4pIqnh_u7Jii",
        "outputId": "86a7e9bf-286b-4327-bb5f-f164984305bc"
      },
      "execution_count": 14,
      "outputs": [
        {
          "output_type": "execute_result",
          "data": {
            "text/plain": [
              "(21631, 17)"
            ]
          },
          "metadata": {},
          "execution_count": 14
        }
      ]
    },
    {
      "cell_type": "markdown",
      "source": [
        "####1-3. 결측치 제거"
      ],
      "metadata": {
        "id": "ylMakK1HBiDl"
      }
    },
    {
      "cell_type": "code",
      "source": [
        "df.isnull().sum()"
      ],
      "metadata": {
        "colab": {
          "base_uri": "https://localhost:8080/"
        },
        "id": "_g-2mBsAA9IE",
        "outputId": "f9c7a715-1f91-4c2e-8f9d-29bdc9292093"
      },
      "execution_count": 15,
      "outputs": [
        {
          "output_type": "execute_result",
          "data": {
            "text/plain": [
              "id                     0\n",
              "thumbnail             15\n",
              "image                 15\n",
              "primary                0\n",
              "description            1\n",
              "yearpublished          0\n",
              "minplayers             0\n",
              "maxplayers             0\n",
              "playingtime            0\n",
              "minplaytime            0\n",
              "maxplaytime            0\n",
              "minage                 0\n",
              "boardgamecategory    283\n",
              "usersrated             0\n",
              "average                0\n",
              "Board Game Rank        0\n",
              "averageweight          0\n",
              "dtype: int64"
            ]
          },
          "metadata": {},
          "execution_count": 15
        }
      ]
    },
    {
      "cell_type": "code",
      "source": [
        "#Remove null values\n",
        "df = df.dropna(axis = 0)\n",
        "df.shape"
      ],
      "metadata": {
        "colab": {
          "base_uri": "https://localhost:8080/"
        },
        "id": "_gaSGecNCeJV",
        "outputId": "e2e2d04e-0c32-4bec-de9a-e299b6baf528"
      },
      "execution_count": 16,
      "outputs": [
        {
          "output_type": "execute_result",
          "data": {
            "text/plain": [
              "(21333, 17)"
            ]
          },
          "metadata": {},
          "execution_count": 16
        }
      ]
    },
    {
      "cell_type": "markdown",
      "source": [
        "####1-3. 이상치 제거"
      ],
      "metadata": {
        "id": "O8u2l6Mm-RWM"
      }
    },
    {
      "cell_type": "code",
      "source": [
        "# remove games which published year are below 1900 or above 2022\n",
        "condition = (df[\"yearpublished\"]<1900)|(df[\"yearpublished\"]>2022)\n",
        "df.drop(df.loc[condition].index, inplace=True)\n",
        "df.shape"
      ],
      "metadata": {
        "colab": {
          "base_uri": "https://localhost:8080/"
        },
        "id": "7_5uEUK2-QCN",
        "outputId": "8a0f8447-6abe-4827-921e-42d1219ede40"
      },
      "execution_count": 17,
      "outputs": [
        {
          "output_type": "stream",
          "name": "stderr",
          "text": [
            "/usr/local/lib/python3.7/dist-packages/pandas/core/frame.py:4913: SettingWithCopyWarning: \n",
            "A value is trying to be set on a copy of a slice from a DataFrame\n",
            "\n",
            "See the caveats in the documentation: https://pandas.pydata.org/pandas-docs/stable/user_guide/indexing.html#returning-a-view-versus-a-copy\n",
            "  errors=errors,\n"
          ]
        },
        {
          "output_type": "execute_result",
          "data": {
            "text/plain": [
              "(21040, 17)"
            ]
          },
          "metadata": {},
          "execution_count": 17
        }
      ]
    },
    {
      "cell_type": "code",
      "source": [
        "# remove games which minimun players are below 1 or maximum players are lower than minplayers\n",
        "condition = (df[\"minplayers\"]<=0)|(df[\"maxplayers\"]<df[\"minplayers\"])\n",
        "df.drop(df.loc[condition].index, inplace=True)\n",
        "df.shape"
      ],
      "metadata": {
        "colab": {
          "base_uri": "https://localhost:8080/"
        },
        "id": "mrwECdr6C2g3",
        "outputId": "872f5924-441b-4db8-bd0e-430f22b05795"
      },
      "execution_count": 18,
      "outputs": [
        {
          "output_type": "execute_result",
          "data": {
            "text/plain": [
              "(20882, 17)"
            ]
          },
          "metadata": {},
          "execution_count": 18
        }
      ]
    },
    {
      "cell_type": "code",
      "source": [
        "# remove games which both minimun play time and maximum play time are 0\n",
        "condition = (df[\"minplaytime\"]==0)&(df[\"maxplaytime\"]==0)\n",
        "df.drop(df.loc[condition].index, inplace=True)\n",
        "df.shape"
      ],
      "metadata": {
        "colab": {
          "base_uri": "https://localhost:8080/"
        },
        "id": "i_-lJx2DEM7u",
        "outputId": "f6de4740-9bc1-4364-d45d-c0642548d72f"
      },
      "execution_count": 19,
      "outputs": [
        {
          "output_type": "execute_result",
          "data": {
            "text/plain": [
              "(20358, 17)"
            ]
          },
          "metadata": {},
          "execution_count": 19
        }
      ]
    },
    {
      "cell_type": "code",
      "source": [
        "# remove games if min_play_time and max_play_time were put in opposite way\n",
        "condition = (df[\"maxplaytime\"]<df[\"minplaytime\"])\n",
        "df.drop(df.loc[condition].index, inplace=True)\n",
        "df.shape"
      ],
      "metadata": {
        "colab": {
          "base_uri": "https://localhost:8080/"
        },
        "id": "5096EMlQGiL7",
        "outputId": "48943da6-861b-43f5-ab61-3d42098eac04"
      },
      "execution_count": 20,
      "outputs": [
        {
          "output_type": "execute_result",
          "data": {
            "text/plain": [
              "(20216, 17)"
            ]
          },
          "metadata": {},
          "execution_count": 20
        }
      ]
    },
    {
      "cell_type": "code",
      "source": [
        "# Check games if average below 1\n",
        "condition = (df[\"averageweight\"]<1)\n",
        "df.drop(df.loc[condition].index, inplace=True)\n",
        "df.shape"
      ],
      "metadata": {
        "colab": {
          "base_uri": "https://localhost:8080/"
        },
        "id": "ryPc0W76JRbv",
        "outputId": "eea37754-c283-4822-fc58-dae1324af791"
      },
      "execution_count": 40,
      "outputs": [
        {
          "output_type": "execute_result",
          "data": {
            "text/plain": [
              "(19804, 17)"
            ]
          },
          "metadata": {},
          "execution_count": 40
        }
      ]
    },
    {
      "cell_type": "code",
      "source": [
        "# Check games if minage below 0 or above 200\n",
        "condition = (df[\"minage\"]<0)|(df[\"minage\"]>200)\n",
        "df[condition]\n",
        "\n",
        "# Check games if usersrated below 0\n",
        "condition = (df[\"usersrated\"]<=0)\n",
        "df[condition]\n",
        "\n",
        "# Check games if average below 0\n",
        "condition = (df[\"average\"]<=0)\n",
        "df[condition]\n",
        "df.shape"
      ],
      "metadata": {
        "colab": {
          "base_uri": "https://localhost:8080/"
        },
        "id": "GN1tI8hTGv0i",
        "outputId": "f84951f9-54fa-4900-f3ef-f377e1a0d378"
      },
      "execution_count": 45,
      "outputs": [
        {
          "output_type": "execute_result",
          "data": {
            "text/plain": [
              "(19804, 17)"
            ]
          },
          "metadata": {},
          "execution_count": 45
        }
      ]
    },
    {
      "cell_type": "markdown",
      "source": [
        "1-4. 중복 데이터 제거"
      ],
      "metadata": {
        "id": "aM1CDAlCBnFO"
      }
    },
    {
      "cell_type": "code",
      "source": [
        "#check any duplicated data set\n",
        "df.duplicated().sum()"
      ],
      "metadata": {
        "colab": {
          "base_uri": "https://localhost:8080/"
        },
        "id": "CvwaNiVUHcwM",
        "outputId": "059fdc06-b038-4fff-fc1e-0c92d2d6afa8"
      },
      "execution_count": 60,
      "outputs": [
        {
          "output_type": "execute_result",
          "data": {
            "text/plain": [
              "0"
            ]
          },
          "metadata": {},
          "execution_count": 60
        }
      ]
    },
    {
      "cell_type": "markdown",
      "source": [
        "##2. 학습 할 \"description\" 데이터 프레임 전처리"
      ],
      "metadata": {
        "id": "OMNZjmwCBnDH"
      }
    },
    {
      "cell_type": "code",
      "source": [
        "#데이터 평가 많은 순으로 sort\n",
        "df.sort_values(by=[\"usersrated\",\"average\"],ascending=[False,False])\n",
        "df.head(3)"
      ],
      "metadata": {
        "colab": {
          "base_uri": "https://localhost:8080/",
          "height": 433
        },
        "id": "7Jx95JP7Ls3K",
        "outputId": "42cfa692-0d10-4109-9d1a-9393899a6fdd"
      },
      "execution_count": 66,
      "outputs": [
        {
          "output_type": "execute_result",
          "data": {
            "text/plain": [
              "      id                                          thumbnail  \\\n",
              "0  30549  https://cf.geekdo-images.com/S3ybV1LAp-8SnHIXL...   \n",
              "1    822  https://cf.geekdo-images.com/okM0dq_bEXnbyQTOv...   \n",
              "2     13  https://cf.geekdo-images.com/W3Bsga_uLP9kO91gZ...   \n",
              "\n",
              "                                               image      primary  \\\n",
              "0  https://cf.geekdo-images.com/S3ybV1LAp-8SnHIXL...     Pandemic   \n",
              "1  https://cf.geekdo-images.com/okM0dq_bEXnbyQTOv...  Carcassonne   \n",
              "2  https://cf.geekdo-images.com/W3Bsga_uLP9kO91gZ...        Catan   \n",
              "\n",
              "                                         description  yearpublished  \\\n",
              "0  In Pandemic, several virulent diseases have br...           2008   \n",
              "1  Carcassonne is a tile-placement game in which ...           2000   \n",
              "2  In CATAN (formerly The Settlers of Catan), pla...           1995   \n",
              "\n",
              "   minplayers  maxplayers  playingtime  minplaytime  maxplaytime  minage  \\\n",
              "0           2           4           45           45           45       8   \n",
              "1           2           5           45           30           45       7   \n",
              "2           3           4          120           60          120      10   \n",
              "\n",
              "                                   boardgamecategory  usersrated  average  \\\n",
              "0                                        ['Medical']      109006  7.58896   \n",
              "1  ['City Building', 'Medieval', 'Territory Build...      108776  7.41837   \n",
              "2                        ['Economic', 'Negotiation']      108064  7.13598   \n",
              "\n",
              "  Board Game Rank  averageweight  \n",
              "0             106         2.4063  \n",
              "1             191         1.9057  \n",
              "2             429         2.3130  "
            ],
            "text/html": [
              "\n",
              "  <div id=\"df-52f3ffc3-bdc5-4006-880f-c32df3db536b\">\n",
              "    <div class=\"colab-df-container\">\n",
              "      <div>\n",
              "<style scoped>\n",
              "    .dataframe tbody tr th:only-of-type {\n",
              "        vertical-align: middle;\n",
              "    }\n",
              "\n",
              "    .dataframe tbody tr th {\n",
              "        vertical-align: top;\n",
              "    }\n",
              "\n",
              "    .dataframe thead th {\n",
              "        text-align: right;\n",
              "    }\n",
              "</style>\n",
              "<table border=\"1\" class=\"dataframe\">\n",
              "  <thead>\n",
              "    <tr style=\"text-align: right;\">\n",
              "      <th></th>\n",
              "      <th>id</th>\n",
              "      <th>thumbnail</th>\n",
              "      <th>image</th>\n",
              "      <th>primary</th>\n",
              "      <th>description</th>\n",
              "      <th>yearpublished</th>\n",
              "      <th>minplayers</th>\n",
              "      <th>maxplayers</th>\n",
              "      <th>playingtime</th>\n",
              "      <th>minplaytime</th>\n",
              "      <th>maxplaytime</th>\n",
              "      <th>minage</th>\n",
              "      <th>boardgamecategory</th>\n",
              "      <th>usersrated</th>\n",
              "      <th>average</th>\n",
              "      <th>Board Game Rank</th>\n",
              "      <th>averageweight</th>\n",
              "    </tr>\n",
              "  </thead>\n",
              "  <tbody>\n",
              "    <tr>\n",
              "      <th>0</th>\n",
              "      <td>30549</td>\n",
              "      <td>https://cf.geekdo-images.com/S3ybV1LAp-8SnHIXL...</td>\n",
              "      <td>https://cf.geekdo-images.com/S3ybV1LAp-8SnHIXL...</td>\n",
              "      <td>Pandemic</td>\n",
              "      <td>In Pandemic, several virulent diseases have br...</td>\n",
              "      <td>2008</td>\n",
              "      <td>2</td>\n",
              "      <td>4</td>\n",
              "      <td>45</td>\n",
              "      <td>45</td>\n",
              "      <td>45</td>\n",
              "      <td>8</td>\n",
              "      <td>['Medical']</td>\n",
              "      <td>109006</td>\n",
              "      <td>7.58896</td>\n",
              "      <td>106</td>\n",
              "      <td>2.4063</td>\n",
              "    </tr>\n",
              "    <tr>\n",
              "      <th>1</th>\n",
              "      <td>822</td>\n",
              "      <td>https://cf.geekdo-images.com/okM0dq_bEXnbyQTOv...</td>\n",
              "      <td>https://cf.geekdo-images.com/okM0dq_bEXnbyQTOv...</td>\n",
              "      <td>Carcassonne</td>\n",
              "      <td>Carcassonne is a tile-placement game in which ...</td>\n",
              "      <td>2000</td>\n",
              "      <td>2</td>\n",
              "      <td>5</td>\n",
              "      <td>45</td>\n",
              "      <td>30</td>\n",
              "      <td>45</td>\n",
              "      <td>7</td>\n",
              "      <td>['City Building', 'Medieval', 'Territory Build...</td>\n",
              "      <td>108776</td>\n",
              "      <td>7.41837</td>\n",
              "      <td>191</td>\n",
              "      <td>1.9057</td>\n",
              "    </tr>\n",
              "    <tr>\n",
              "      <th>2</th>\n",
              "      <td>13</td>\n",
              "      <td>https://cf.geekdo-images.com/W3Bsga_uLP9kO91gZ...</td>\n",
              "      <td>https://cf.geekdo-images.com/W3Bsga_uLP9kO91gZ...</td>\n",
              "      <td>Catan</td>\n",
              "      <td>In CATAN (formerly The Settlers of Catan), pla...</td>\n",
              "      <td>1995</td>\n",
              "      <td>3</td>\n",
              "      <td>4</td>\n",
              "      <td>120</td>\n",
              "      <td>60</td>\n",
              "      <td>120</td>\n",
              "      <td>10</td>\n",
              "      <td>['Economic', 'Negotiation']</td>\n",
              "      <td>108064</td>\n",
              "      <td>7.13598</td>\n",
              "      <td>429</td>\n",
              "      <td>2.3130</td>\n",
              "    </tr>\n",
              "  </tbody>\n",
              "</table>\n",
              "</div>\n",
              "      <button class=\"colab-df-convert\" onclick=\"convertToInteractive('df-52f3ffc3-bdc5-4006-880f-c32df3db536b')\"\n",
              "              title=\"Convert this dataframe to an interactive table.\"\n",
              "              style=\"display:none;\">\n",
              "        \n",
              "  <svg xmlns=\"http://www.w3.org/2000/svg\" height=\"24px\"viewBox=\"0 0 24 24\"\n",
              "       width=\"24px\">\n",
              "    <path d=\"M0 0h24v24H0V0z\" fill=\"none\"/>\n",
              "    <path d=\"M18.56 5.44l.94 2.06.94-2.06 2.06-.94-2.06-.94-.94-2.06-.94 2.06-2.06.94zm-11 1L8.5 8.5l.94-2.06 2.06-.94-2.06-.94L8.5 2.5l-.94 2.06-2.06.94zm10 10l.94 2.06.94-2.06 2.06-.94-2.06-.94-.94-2.06-.94 2.06-2.06.94z\"/><path d=\"M17.41 7.96l-1.37-1.37c-.4-.4-.92-.59-1.43-.59-.52 0-1.04.2-1.43.59L10.3 9.45l-7.72 7.72c-.78.78-.78 2.05 0 2.83L4 21.41c.39.39.9.59 1.41.59.51 0 1.02-.2 1.41-.59l7.78-7.78 2.81-2.81c.8-.78.8-2.07 0-2.86zM5.41 20L4 18.59l7.72-7.72 1.47 1.35L5.41 20z\"/>\n",
              "  </svg>\n",
              "      </button>\n",
              "      \n",
              "  <style>\n",
              "    .colab-df-container {\n",
              "      display:flex;\n",
              "      flex-wrap:wrap;\n",
              "      gap: 12px;\n",
              "    }\n",
              "\n",
              "    .colab-df-convert {\n",
              "      background-color: #E8F0FE;\n",
              "      border: none;\n",
              "      border-radius: 50%;\n",
              "      cursor: pointer;\n",
              "      display: none;\n",
              "      fill: #1967D2;\n",
              "      height: 32px;\n",
              "      padding: 0 0 0 0;\n",
              "      width: 32px;\n",
              "    }\n",
              "\n",
              "    .colab-df-convert:hover {\n",
              "      background-color: #E2EBFA;\n",
              "      box-shadow: 0px 1px 2px rgba(60, 64, 67, 0.3), 0px 1px 3px 1px rgba(60, 64, 67, 0.15);\n",
              "      fill: #174EA6;\n",
              "    }\n",
              "\n",
              "    [theme=dark] .colab-df-convert {\n",
              "      background-color: #3B4455;\n",
              "      fill: #D2E3FC;\n",
              "    }\n",
              "\n",
              "    [theme=dark] .colab-df-convert:hover {\n",
              "      background-color: #434B5C;\n",
              "      box-shadow: 0px 1px 3px 1px rgba(0, 0, 0, 0.15);\n",
              "      filter: drop-shadow(0px 1px 2px rgba(0, 0, 0, 0.3));\n",
              "      fill: #FFFFFF;\n",
              "    }\n",
              "  </style>\n",
              "\n",
              "      <script>\n",
              "        const buttonEl =\n",
              "          document.querySelector('#df-52f3ffc3-bdc5-4006-880f-c32df3db536b button.colab-df-convert');\n",
              "        buttonEl.style.display =\n",
              "          google.colab.kernel.accessAllowed ? 'block' : 'none';\n",
              "\n",
              "        async function convertToInteractive(key) {\n",
              "          const element = document.querySelector('#df-52f3ffc3-bdc5-4006-880f-c32df3db536b');\n",
              "          const dataTable =\n",
              "            await google.colab.kernel.invokeFunction('convertToInteractive',\n",
              "                                                     [key], {});\n",
              "          if (!dataTable) return;\n",
              "\n",
              "          const docLinkHtml = 'Like what you see? Visit the ' +\n",
              "            '<a target=\"_blank\" href=https://colab.research.google.com/notebooks/data_table.ipynb>data table notebook</a>'\n",
              "            + ' to learn more about interactive tables.';\n",
              "          element.innerHTML = '';\n",
              "          dataTable['output_type'] = 'display_data';\n",
              "          await google.colab.output.renderOutput(dataTable, element);\n",
              "          const docLink = document.createElement('div');\n",
              "          docLink.innerHTML = docLinkHtml;\n",
              "          element.appendChild(docLink);\n",
              "        }\n",
              "      </script>\n",
              "    </div>\n",
              "  </div>\n",
              "  "
            ]
          },
          "metadata": {},
          "execution_count": 66
        }
      ]
    },
    {
      "cell_type": "code",
      "source": [
        "#new data set for DLM\n",
        "df_description = df[[\"id\",\"primary\",\"description\"]]\n",
        "df_description.head(3)"
      ],
      "metadata": {
        "colab": {
          "base_uri": "https://localhost:8080/",
          "height": 143
        },
        "id": "1I-dl_vXLX_s",
        "outputId": "2787933b-4b19-472d-e28c-839005be905a"
      },
      "execution_count": 67,
      "outputs": [
        {
          "output_type": "execute_result",
          "data": {
            "text/plain": [
              "      id      primary                                        description\n",
              "0  30549     Pandemic  In Pandemic, several virulent diseases have br...\n",
              "1    822  Carcassonne  Carcassonne is a tile-placement game in which ...\n",
              "2     13        Catan  In CATAN (formerly The Settlers of Catan), pla..."
            ],
            "text/html": [
              "\n",
              "  <div id=\"df-2e5f7b8b-49aa-4718-843c-b82824d76783\">\n",
              "    <div class=\"colab-df-container\">\n",
              "      <div>\n",
              "<style scoped>\n",
              "    .dataframe tbody tr th:only-of-type {\n",
              "        vertical-align: middle;\n",
              "    }\n",
              "\n",
              "    .dataframe tbody tr th {\n",
              "        vertical-align: top;\n",
              "    }\n",
              "\n",
              "    .dataframe thead th {\n",
              "        text-align: right;\n",
              "    }\n",
              "</style>\n",
              "<table border=\"1\" class=\"dataframe\">\n",
              "  <thead>\n",
              "    <tr style=\"text-align: right;\">\n",
              "      <th></th>\n",
              "      <th>id</th>\n",
              "      <th>primary</th>\n",
              "      <th>description</th>\n",
              "    </tr>\n",
              "  </thead>\n",
              "  <tbody>\n",
              "    <tr>\n",
              "      <th>0</th>\n",
              "      <td>30549</td>\n",
              "      <td>Pandemic</td>\n",
              "      <td>In Pandemic, several virulent diseases have br...</td>\n",
              "    </tr>\n",
              "    <tr>\n",
              "      <th>1</th>\n",
              "      <td>822</td>\n",
              "      <td>Carcassonne</td>\n",
              "      <td>Carcassonne is a tile-placement game in which ...</td>\n",
              "    </tr>\n",
              "    <tr>\n",
              "      <th>2</th>\n",
              "      <td>13</td>\n",
              "      <td>Catan</td>\n",
              "      <td>In CATAN (formerly The Settlers of Catan), pla...</td>\n",
              "    </tr>\n",
              "  </tbody>\n",
              "</table>\n",
              "</div>\n",
              "      <button class=\"colab-df-convert\" onclick=\"convertToInteractive('df-2e5f7b8b-49aa-4718-843c-b82824d76783')\"\n",
              "              title=\"Convert this dataframe to an interactive table.\"\n",
              "              style=\"display:none;\">\n",
              "        \n",
              "  <svg xmlns=\"http://www.w3.org/2000/svg\" height=\"24px\"viewBox=\"0 0 24 24\"\n",
              "       width=\"24px\">\n",
              "    <path d=\"M0 0h24v24H0V0z\" fill=\"none\"/>\n",
              "    <path d=\"M18.56 5.44l.94 2.06.94-2.06 2.06-.94-2.06-.94-.94-2.06-.94 2.06-2.06.94zm-11 1L8.5 8.5l.94-2.06 2.06-.94-2.06-.94L8.5 2.5l-.94 2.06-2.06.94zm10 10l.94 2.06.94-2.06 2.06-.94-2.06-.94-.94-2.06-.94 2.06-2.06.94z\"/><path d=\"M17.41 7.96l-1.37-1.37c-.4-.4-.92-.59-1.43-.59-.52 0-1.04.2-1.43.59L10.3 9.45l-7.72 7.72c-.78.78-.78 2.05 0 2.83L4 21.41c.39.39.9.59 1.41.59.51 0 1.02-.2 1.41-.59l7.78-7.78 2.81-2.81c.8-.78.8-2.07 0-2.86zM5.41 20L4 18.59l7.72-7.72 1.47 1.35L5.41 20z\"/>\n",
              "  </svg>\n",
              "      </button>\n",
              "      \n",
              "  <style>\n",
              "    .colab-df-container {\n",
              "      display:flex;\n",
              "      flex-wrap:wrap;\n",
              "      gap: 12px;\n",
              "    }\n",
              "\n",
              "    .colab-df-convert {\n",
              "      background-color: #E8F0FE;\n",
              "      border: none;\n",
              "      border-radius: 50%;\n",
              "      cursor: pointer;\n",
              "      display: none;\n",
              "      fill: #1967D2;\n",
              "      height: 32px;\n",
              "      padding: 0 0 0 0;\n",
              "      width: 32px;\n",
              "    }\n",
              "\n",
              "    .colab-df-convert:hover {\n",
              "      background-color: #E2EBFA;\n",
              "      box-shadow: 0px 1px 2px rgba(60, 64, 67, 0.3), 0px 1px 3px 1px rgba(60, 64, 67, 0.15);\n",
              "      fill: #174EA6;\n",
              "    }\n",
              "\n",
              "    [theme=dark] .colab-df-convert {\n",
              "      background-color: #3B4455;\n",
              "      fill: #D2E3FC;\n",
              "    }\n",
              "\n",
              "    [theme=dark] .colab-df-convert:hover {\n",
              "      background-color: #434B5C;\n",
              "      box-shadow: 0px 1px 3px 1px rgba(0, 0, 0, 0.15);\n",
              "      filter: drop-shadow(0px 1px 2px rgba(0, 0, 0, 0.3));\n",
              "      fill: #FFFFFF;\n",
              "    }\n",
              "  </style>\n",
              "\n",
              "      <script>\n",
              "        const buttonEl =\n",
              "          document.querySelector('#df-2e5f7b8b-49aa-4718-843c-b82824d76783 button.colab-df-convert');\n",
              "        buttonEl.style.display =\n",
              "          google.colab.kernel.accessAllowed ? 'block' : 'none';\n",
              "\n",
              "        async function convertToInteractive(key) {\n",
              "          const element = document.querySelector('#df-2e5f7b8b-49aa-4718-843c-b82824d76783');\n",
              "          const dataTable =\n",
              "            await google.colab.kernel.invokeFunction('convertToInteractive',\n",
              "                                                     [key], {});\n",
              "          if (!dataTable) return;\n",
              "\n",
              "          const docLinkHtml = 'Like what you see? Visit the ' +\n",
              "            '<a target=\"_blank\" href=https://colab.research.google.com/notebooks/data_table.ipynb>data table notebook</a>'\n",
              "            + ' to learn more about interactive tables.';\n",
              "          element.innerHTML = '';\n",
              "          dataTable['output_type'] = 'display_data';\n",
              "          await google.colab.output.renderOutput(dataTable, element);\n",
              "          const docLink = document.createElement('div');\n",
              "          docLink.innerHTML = docLinkHtml;\n",
              "          element.appendChild(docLink);\n",
              "        }\n",
              "      </script>\n",
              "    </div>\n",
              "  </div>\n",
              "  "
            ]
          },
          "metadata": {},
          "execution_count": 67
        }
      ]
    },
    {
      "cell_type": "code",
      "source": [
        "df_description = df_description[0:1000]\n",
        "df_description.shape"
      ],
      "metadata": {
        "colab": {
          "base_uri": "https://localhost:8080/"
        },
        "id": "VX3zMqcwNz4_",
        "outputId": "ff86b5da-3adc-4e06-d0b3-6f1589798280"
      },
      "execution_count": 68,
      "outputs": [
        {
          "output_type": "execute_result",
          "data": {
            "text/plain": [
              "(1000, 3)"
            ]
          },
          "metadata": {},
          "execution_count": 68
        }
      ]
    },
    {
      "cell_type": "markdown",
      "source": [
        "####2-1. 텍스트 기반으로 토큰에 넣기"
      ],
      "metadata": {
        "id": "f3al2VG4BnAf"
      }
    },
    {
      "cell_type": "code",
      "source": [
        "df_"
      ],
      "metadata": {
        "id": "ec4RaQwDLQBz"
      },
      "execution_count": null,
      "outputs": []
    },
    {
      "cell_type": "markdown",
      "source": [
        "####2-2. 토큰 정제(Regex, Lower)"
      ],
      "metadata": {
        "id": "zYrWVhqSBm-B"
      }
    },
    {
      "cell_type": "markdown",
      "source": [
        "####2-3. 불용어(Stop words)"
      ],
      "metadata": {
        "id": "OKXc6puTBm7Y"
      }
    },
    {
      "cell_type": "markdown",
      "source": [
        "####2-4. 표제어 추출(Stemming)"
      ],
      "metadata": {
        "id": "juOnFohVBm48"
      }
    },
    {
      "cell_type": "markdown",
      "source": [],
      "metadata": {
        "id": "VY3PRxhRBmrH"
      }
    }
  ]
}