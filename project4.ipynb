{
  "nbformat": 4,
  "nbformat_minor": 0,
  "metadata": {
    "colab": {
      "provenance": [],
      "toc_visible": true,
      "authorship_tag": "ABX9TyMIwez4cBasf4curiAOnsRQ",
      "include_colab_link": true
    },
    "kernelspec": {
      "name": "python3",
      "display_name": "Python 3"
    },
    "language_info": {
      "name": "python"
    }
  },
  "cells": [
    {
      "cell_type": "markdown",
      "metadata": {
        "id": "view-in-github",
        "colab_type": "text"
      },
      "source": [
        "<a href=\"https://colab.research.google.com/github/KYOH95/Project_4_Boardgame_App_Ver2/blob/main/project4.ipynb\" target=\"_parent\"><img src=\"https://colab.research.google.com/assets/colab-badge.svg\" alt=\"Open In Colab\"/></a>"
      ]
    },
    {
      "cell_type": "markdown",
      "source": [
        "## 0. 구글 드라이브로부터 데이터 불러오기"
      ],
      "metadata": {
        "id": "bnVx0jmO9ZD6"
      }
    },
    {
      "cell_type": "code",
      "execution_count": 58,
      "metadata": {
        "colab": {
          "base_uri": "https://localhost:8080/"
        },
        "id": "WkTc_zFF4T7M",
        "outputId": "c4e63e50-af13-4a12-b028-c1255c5782ce"
      },
      "outputs": [
        {
          "output_type": "stream",
          "name": "stdout",
          "text": [
            "Drive already mounted at /content/drive; to attempt to forcibly remount, call drive.mount(\"/content/drive\", force_remount=True).\n"
          ]
        }
      ],
      "source": [
        "from google.colab import drive\n",
        "drive.mount('/content/drive')"
      ]
    },
    {
      "cell_type": "code",
      "source": [
        "import pandas as pd\n",
        "import os\n",
        "\n",
        "#데이터 세트(캐글): https://www.kaggle.com/datasets/extralime/20000-boardgames-dataset\n",
        "dir = './drive/MyDrive/Project4'\n",
        "filename = os.listdir(dir)\n",
        "\n",
        "csv_path = os.path.join(dir, filename[0])\n",
        "df = pd.read_csv(csv_path)\n",
        "df.head(3)"
      ],
      "metadata": {
        "colab": {
          "base_uri": "https://localhost:8080/",
          "height": 497
        },
        "id": "NjOObZh66Frl",
        "outputId": "c5b5afd5-3955-49f5-b526-5aeb5069582e"
      },
      "execution_count": 59,
      "outputs": [
        {
          "output_type": "stream",
          "name": "stderr",
          "text": [
            "/usr/local/lib/python3.7/dist-packages/IPython/core/interactiveshell.py:3326: DtypeWarning: Columns (29,48) have mixed types.Specify dtype option on import or set low_memory=False.\n",
            "  exec(code_obj, self.user_global_ns, self.user_ns)\n"
          ]
        },
        {
          "output_type": "execute_result",
          "data": {
            "text/plain": [
              "   Unnamed: 0       type     id  \\\n",
              "0           0  boardgame  30549   \n",
              "1           1  boardgame    822   \n",
              "2           2  boardgame     13   \n",
              "\n",
              "                                           thumbnail  \\\n",
              "0  https://cf.geekdo-images.com/S3ybV1LAp-8SnHIXL...   \n",
              "1  https://cf.geekdo-images.com/okM0dq_bEXnbyQTOv...   \n",
              "2  https://cf.geekdo-images.com/W3Bsga_uLP9kO91gZ...   \n",
              "\n",
              "                                               image      primary  \\\n",
              "0  https://cf.geekdo-images.com/S3ybV1LAp-8SnHIXL...     Pandemic   \n",
              "1  https://cf.geekdo-images.com/okM0dq_bEXnbyQTOv...  Carcassonne   \n",
              "2  https://cf.geekdo-images.com/W3Bsga_uLP9kO91gZ...        Catan   \n",
              "\n",
              "                                           alternate  \\\n",
              "0  ['EPIZOotic', 'Pandemia', 'Pandemia 10 Anivers...   \n",
              "1  ['Carcassonne Jubilee Edition', 'Carcassonne: ...   \n",
              "2  ['CATAN', 'Catan (Колонизаторы)', 'Catan telep...   \n",
              "\n",
              "                                         description  yearpublished  \\\n",
              "0  In Pandemic, several virulent diseases have br...           2008   \n",
              "1  Carcassonne is a tile-placement game in which ...           2000   \n",
              "2  In CATAN (formerly The Settlers of Catan), pla...           1995   \n",
              "\n",
              "   minplayers  ...  War Game Rank Customizable Rank Children's Game Rank  \\\n",
              "0           2  ...            NaN               NaN                  NaN   \n",
              "1           2  ...            NaN               NaN                  NaN   \n",
              "2           3  ...            NaN               NaN                  NaN   \n",
              "\n",
              "  RPG Item Rank  Accessory Rank  Video Game Rank  Amiga Rank  \\\n",
              "0           NaN             NaN              NaN         NaN   \n",
              "1           NaN             NaN              NaN         NaN   \n",
              "2           NaN             NaN              NaN         NaN   \n",
              "\n",
              "   Commodore 64 Rank Arcade Rank Atari ST Rank  \n",
              "0                NaN         NaN           NaN  \n",
              "1                NaN         NaN           NaN  \n",
              "2                NaN         NaN           NaN  \n",
              "\n",
              "[3 rows x 56 columns]"
            ],
            "text/html": [
              "\n",
              "  <div id=\"df-dd3e471a-e446-4830-ab5a-60e2a31abd0c\">\n",
              "    <div class=\"colab-df-container\">\n",
              "      <div>\n",
              "<style scoped>\n",
              "    .dataframe tbody tr th:only-of-type {\n",
              "        vertical-align: middle;\n",
              "    }\n",
              "\n",
              "    .dataframe tbody tr th {\n",
              "        vertical-align: top;\n",
              "    }\n",
              "\n",
              "    .dataframe thead th {\n",
              "        text-align: right;\n",
              "    }\n",
              "</style>\n",
              "<table border=\"1\" class=\"dataframe\">\n",
              "  <thead>\n",
              "    <tr style=\"text-align: right;\">\n",
              "      <th></th>\n",
              "      <th>Unnamed: 0</th>\n",
              "      <th>type</th>\n",
              "      <th>id</th>\n",
              "      <th>thumbnail</th>\n",
              "      <th>image</th>\n",
              "      <th>primary</th>\n",
              "      <th>alternate</th>\n",
              "      <th>description</th>\n",
              "      <th>yearpublished</th>\n",
              "      <th>minplayers</th>\n",
              "      <th>...</th>\n",
              "      <th>War Game Rank</th>\n",
              "      <th>Customizable Rank</th>\n",
              "      <th>Children's Game Rank</th>\n",
              "      <th>RPG Item Rank</th>\n",
              "      <th>Accessory Rank</th>\n",
              "      <th>Video Game Rank</th>\n",
              "      <th>Amiga Rank</th>\n",
              "      <th>Commodore 64 Rank</th>\n",
              "      <th>Arcade Rank</th>\n",
              "      <th>Atari ST Rank</th>\n",
              "    </tr>\n",
              "  </thead>\n",
              "  <tbody>\n",
              "    <tr>\n",
              "      <th>0</th>\n",
              "      <td>0</td>\n",
              "      <td>boardgame</td>\n",
              "      <td>30549</td>\n",
              "      <td>https://cf.geekdo-images.com/S3ybV1LAp-8SnHIXL...</td>\n",
              "      <td>https://cf.geekdo-images.com/S3ybV1LAp-8SnHIXL...</td>\n",
              "      <td>Pandemic</td>\n",
              "      <td>['EPIZOotic', 'Pandemia', 'Pandemia 10 Anivers...</td>\n",
              "      <td>In Pandemic, several virulent diseases have br...</td>\n",
              "      <td>2008</td>\n",
              "      <td>2</td>\n",
              "      <td>...</td>\n",
              "      <td>NaN</td>\n",
              "      <td>NaN</td>\n",
              "      <td>NaN</td>\n",
              "      <td>NaN</td>\n",
              "      <td>NaN</td>\n",
              "      <td>NaN</td>\n",
              "      <td>NaN</td>\n",
              "      <td>NaN</td>\n",
              "      <td>NaN</td>\n",
              "      <td>NaN</td>\n",
              "    </tr>\n",
              "    <tr>\n",
              "      <th>1</th>\n",
              "      <td>1</td>\n",
              "      <td>boardgame</td>\n",
              "      <td>822</td>\n",
              "      <td>https://cf.geekdo-images.com/okM0dq_bEXnbyQTOv...</td>\n",
              "      <td>https://cf.geekdo-images.com/okM0dq_bEXnbyQTOv...</td>\n",
              "      <td>Carcassonne</td>\n",
              "      <td>['Carcassonne Jubilee Edition', 'Carcassonne: ...</td>\n",
              "      <td>Carcassonne is a tile-placement game in which ...</td>\n",
              "      <td>2000</td>\n",
              "      <td>2</td>\n",
              "      <td>...</td>\n",
              "      <td>NaN</td>\n",
              "      <td>NaN</td>\n",
              "      <td>NaN</td>\n",
              "      <td>NaN</td>\n",
              "      <td>NaN</td>\n",
              "      <td>NaN</td>\n",
              "      <td>NaN</td>\n",
              "      <td>NaN</td>\n",
              "      <td>NaN</td>\n",
              "      <td>NaN</td>\n",
              "    </tr>\n",
              "    <tr>\n",
              "      <th>2</th>\n",
              "      <td>2</td>\n",
              "      <td>boardgame</td>\n",
              "      <td>13</td>\n",
              "      <td>https://cf.geekdo-images.com/W3Bsga_uLP9kO91gZ...</td>\n",
              "      <td>https://cf.geekdo-images.com/W3Bsga_uLP9kO91gZ...</td>\n",
              "      <td>Catan</td>\n",
              "      <td>['CATAN', 'Catan (Колонизаторы)', 'Catan telep...</td>\n",
              "      <td>In CATAN (formerly The Settlers of Catan), pla...</td>\n",
              "      <td>1995</td>\n",
              "      <td>3</td>\n",
              "      <td>...</td>\n",
              "      <td>NaN</td>\n",
              "      <td>NaN</td>\n",
              "      <td>NaN</td>\n",
              "      <td>NaN</td>\n",
              "      <td>NaN</td>\n",
              "      <td>NaN</td>\n",
              "      <td>NaN</td>\n",
              "      <td>NaN</td>\n",
              "      <td>NaN</td>\n",
              "      <td>NaN</td>\n",
              "    </tr>\n",
              "  </tbody>\n",
              "</table>\n",
              "<p>3 rows × 56 columns</p>\n",
              "</div>\n",
              "      <button class=\"colab-df-convert\" onclick=\"convertToInteractive('df-dd3e471a-e446-4830-ab5a-60e2a31abd0c')\"\n",
              "              title=\"Convert this dataframe to an interactive table.\"\n",
              "              style=\"display:none;\">\n",
              "        \n",
              "  <svg xmlns=\"http://www.w3.org/2000/svg\" height=\"24px\"viewBox=\"0 0 24 24\"\n",
              "       width=\"24px\">\n",
              "    <path d=\"M0 0h24v24H0V0z\" fill=\"none\"/>\n",
              "    <path d=\"M18.56 5.44l.94 2.06.94-2.06 2.06-.94-2.06-.94-.94-2.06-.94 2.06-2.06.94zm-11 1L8.5 8.5l.94-2.06 2.06-.94-2.06-.94L8.5 2.5l-.94 2.06-2.06.94zm10 10l.94 2.06.94-2.06 2.06-.94-2.06-.94-.94-2.06-.94 2.06-2.06.94z\"/><path d=\"M17.41 7.96l-1.37-1.37c-.4-.4-.92-.59-1.43-.59-.52 0-1.04.2-1.43.59L10.3 9.45l-7.72 7.72c-.78.78-.78 2.05 0 2.83L4 21.41c.39.39.9.59 1.41.59.51 0 1.02-.2 1.41-.59l7.78-7.78 2.81-2.81c.8-.78.8-2.07 0-2.86zM5.41 20L4 18.59l7.72-7.72 1.47 1.35L5.41 20z\"/>\n",
              "  </svg>\n",
              "      </button>\n",
              "      \n",
              "  <style>\n",
              "    .colab-df-container {\n",
              "      display:flex;\n",
              "      flex-wrap:wrap;\n",
              "      gap: 12px;\n",
              "    }\n",
              "\n",
              "    .colab-df-convert {\n",
              "      background-color: #E8F0FE;\n",
              "      border: none;\n",
              "      border-radius: 50%;\n",
              "      cursor: pointer;\n",
              "      display: none;\n",
              "      fill: #1967D2;\n",
              "      height: 32px;\n",
              "      padding: 0 0 0 0;\n",
              "      width: 32px;\n",
              "    }\n",
              "\n",
              "    .colab-df-convert:hover {\n",
              "      background-color: #E2EBFA;\n",
              "      box-shadow: 0px 1px 2px rgba(60, 64, 67, 0.3), 0px 1px 3px 1px rgba(60, 64, 67, 0.15);\n",
              "      fill: #174EA6;\n",
              "    }\n",
              "\n",
              "    [theme=dark] .colab-df-convert {\n",
              "      background-color: #3B4455;\n",
              "      fill: #D2E3FC;\n",
              "    }\n",
              "\n",
              "    [theme=dark] .colab-df-convert:hover {\n",
              "      background-color: #434B5C;\n",
              "      box-shadow: 0px 1px 3px 1px rgba(0, 0, 0, 0.15);\n",
              "      filter: drop-shadow(0px 1px 2px rgba(0, 0, 0, 0.3));\n",
              "      fill: #FFFFFF;\n",
              "    }\n",
              "  </style>\n",
              "\n",
              "      <script>\n",
              "        const buttonEl =\n",
              "          document.querySelector('#df-dd3e471a-e446-4830-ab5a-60e2a31abd0c button.colab-df-convert');\n",
              "        buttonEl.style.display =\n",
              "          google.colab.kernel.accessAllowed ? 'block' : 'none';\n",
              "\n",
              "        async function convertToInteractive(key) {\n",
              "          const element = document.querySelector('#df-dd3e471a-e446-4830-ab5a-60e2a31abd0c');\n",
              "          const dataTable =\n",
              "            await google.colab.kernel.invokeFunction('convertToInteractive',\n",
              "                                                     [key], {});\n",
              "          if (!dataTable) return;\n",
              "\n",
              "          const docLinkHtml = 'Like what you see? Visit the ' +\n",
              "            '<a target=\"_blank\" href=https://colab.research.google.com/notebooks/data_table.ipynb>data table notebook</a>'\n",
              "            + ' to learn more about interactive tables.';\n",
              "          element.innerHTML = '';\n",
              "          dataTable['output_type'] = 'display_data';\n",
              "          await google.colab.output.renderOutput(dataTable, element);\n",
              "          const docLink = document.createElement('div');\n",
              "          docLink.innerHTML = docLinkHtml;\n",
              "          element.appendChild(docLink);\n",
              "        }\n",
              "      </script>\n",
              "    </div>\n",
              "  </div>\n",
              "  "
            ]
          },
          "metadata": {},
          "execution_count": 59
        }
      ]
    },
    {
      "cell_type": "code",
      "source": [
        "df.shape"
      ],
      "metadata": {
        "colab": {
          "base_uri": "https://localhost:8080/"
        },
        "id": "862EBFaP68XE",
        "outputId": "0cec3879-93ac-4d5b-82f1-9cb2061a21bd"
      },
      "execution_count": 60,
      "outputs": [
        {
          "output_type": "execute_result",
          "data": {
            "text/plain": [
              "(21631, 56)"
            ]
          },
          "metadata": {},
          "execution_count": 60
        }
      ]
    },
    {
      "cell_type": "markdown",
      "source": [
        "##1. 데이터 전처리"
      ],
      "metadata": {
        "id": "1hjtsFmb929o"
      }
    },
    {
      "cell_type": "markdown",
      "source": [
        "####1-1. 불필요한 컬럼(특성) 제거"
      ],
      "metadata": {
        "id": "qHT9ctR69775"
      }
    },
    {
      "cell_type": "code",
      "source": [
        "#make meaningful dataframe with valualble columns from the whole dataset\n",
        "df = df[[\"id\",\"thumbnail\",\"image\",\"primary\",\"description\",\"yearpublished\",\"minplayers\",\"maxplayers\",\"playingtime\",\"minplaytime\",\n",
        "    \"maxplaytime\",\"minage\",\"boardgamecategory\",\"usersrated\",\"average\",\"Board Game Rank\",\"averageweight\"]]\n",
        "df.shape"
      ],
      "metadata": {
        "colab": {
          "base_uri": "https://localhost:8080/"
        },
        "id": "4pIqnh_u7Jii",
        "outputId": "150867a2-6469-4d37-c71a-4a8d9926fc5e"
      },
      "execution_count": 61,
      "outputs": [
        {
          "output_type": "execute_result",
          "data": {
            "text/plain": [
              "(21631, 17)"
            ]
          },
          "metadata": {},
          "execution_count": 61
        }
      ]
    },
    {
      "cell_type": "markdown",
      "source": [
        "####1-3. 결측치 제거"
      ],
      "metadata": {
        "id": "ylMakK1HBiDl"
      }
    },
    {
      "cell_type": "code",
      "source": [
        "df.isnull().sum()"
      ],
      "metadata": {
        "colab": {
          "base_uri": "https://localhost:8080/"
        },
        "id": "_g-2mBsAA9IE",
        "outputId": "9e9ff5c1-541b-4248-cb03-95d27bc7f88b"
      },
      "execution_count": 62,
      "outputs": [
        {
          "output_type": "execute_result",
          "data": {
            "text/plain": [
              "id                     0\n",
              "thumbnail             15\n",
              "image                 15\n",
              "primary                0\n",
              "description            1\n",
              "yearpublished          0\n",
              "minplayers             0\n",
              "maxplayers             0\n",
              "playingtime            0\n",
              "minplaytime            0\n",
              "maxplaytime            0\n",
              "minage                 0\n",
              "boardgamecategory    283\n",
              "usersrated             0\n",
              "average                0\n",
              "Board Game Rank        0\n",
              "averageweight          0\n",
              "dtype: int64"
            ]
          },
          "metadata": {},
          "execution_count": 62
        }
      ]
    },
    {
      "cell_type": "code",
      "source": [
        "#Remove null values\n",
        "df = df.dropna(axis = 0)\n",
        "df.shape"
      ],
      "metadata": {
        "colab": {
          "base_uri": "https://localhost:8080/"
        },
        "id": "_gaSGecNCeJV",
        "outputId": "7fa097b8-1309-419c-bd57-b53e4ad3fe0c"
      },
      "execution_count": 63,
      "outputs": [
        {
          "output_type": "execute_result",
          "data": {
            "text/plain": [
              "(21333, 17)"
            ]
          },
          "metadata": {},
          "execution_count": 63
        }
      ]
    },
    {
      "cell_type": "markdown",
      "source": [
        "####1-3. 이상치 제거"
      ],
      "metadata": {
        "id": "O8u2l6Mm-RWM"
      }
    },
    {
      "cell_type": "code",
      "source": [
        "# remove games which published year are below 1900 or above 2022\n",
        "condition = (df[\"yearpublished\"]<1900)|(df[\"yearpublished\"]>2022)\n",
        "df.drop(df.loc[condition].index, inplace=True)\n",
        "df.shape"
      ],
      "metadata": {
        "colab": {
          "base_uri": "https://localhost:8080/"
        },
        "id": "7_5uEUK2-QCN",
        "outputId": "ef9b0663-d0b3-435e-a170-3df1072ea0ff"
      },
      "execution_count": 64,
      "outputs": [
        {
          "output_type": "execute_result",
          "data": {
            "text/plain": [
              "(21040, 17)"
            ]
          },
          "metadata": {},
          "execution_count": 64
        }
      ]
    },
    {
      "cell_type": "code",
      "source": [
        "# remove games which minimun players are below 1 or maximum players are lower than minplayers\n",
        "condition = (df[\"minplayers\"]<=0)|(df[\"maxplayers\"]<df[\"minplayers\"])\n",
        "df.drop(df.loc[condition].index, inplace=True)\n",
        "df.shape"
      ],
      "metadata": {
        "colab": {
          "base_uri": "https://localhost:8080/"
        },
        "id": "mrwECdr6C2g3",
        "outputId": "cf16b766-9802-4df9-82df-08ea8dc00479"
      },
      "execution_count": 65,
      "outputs": [
        {
          "output_type": "execute_result",
          "data": {
            "text/plain": [
              "(20882, 17)"
            ]
          },
          "metadata": {},
          "execution_count": 65
        }
      ]
    },
    {
      "cell_type": "code",
      "source": [
        "# remove games which both minimun play time and maximum play time are 0\n",
        "condition = (df[\"minplaytime\"]==0)&(df[\"maxplaytime\"]==0)\n",
        "df.drop(df.loc[condition].index, inplace=True)\n",
        "df.shape"
      ],
      "metadata": {
        "colab": {
          "base_uri": "https://localhost:8080/"
        },
        "id": "i_-lJx2DEM7u",
        "outputId": "ec170e11-2805-415a-d0b3-99b90d7688e9"
      },
      "execution_count": 66,
      "outputs": [
        {
          "output_type": "execute_result",
          "data": {
            "text/plain": [
              "(20358, 17)"
            ]
          },
          "metadata": {},
          "execution_count": 66
        }
      ]
    },
    {
      "cell_type": "code",
      "source": [
        "# remove games if min_play_time and max_play_time were put in opposite way\n",
        "condition = (df[\"maxplaytime\"]<df[\"minplaytime\"])\n",
        "df.drop(df.loc[condition].index, inplace=True)\n",
        "df.shape"
      ],
      "metadata": {
        "colab": {
          "base_uri": "https://localhost:8080/"
        },
        "id": "5096EMlQGiL7",
        "outputId": "fead71c5-7af4-4fa5-9246-29577a25ac28"
      },
      "execution_count": 67,
      "outputs": [
        {
          "output_type": "execute_result",
          "data": {
            "text/plain": [
              "(20216, 17)"
            ]
          },
          "metadata": {},
          "execution_count": 67
        }
      ]
    },
    {
      "cell_type": "code",
      "source": [
        "# Check games if average below 1\n",
        "condition = (df[\"averageweight\"]<1)\n",
        "df.drop(df.loc[condition].index, inplace=True)\n",
        "df.shape"
      ],
      "metadata": {
        "colab": {
          "base_uri": "https://localhost:8080/"
        },
        "id": "ryPc0W76JRbv",
        "outputId": "16944371-328a-4de6-e1d3-c1a3024cf2a6"
      },
      "execution_count": 68,
      "outputs": [
        {
          "output_type": "execute_result",
          "data": {
            "text/plain": [
              "(19804, 17)"
            ]
          },
          "metadata": {},
          "execution_count": 68
        }
      ]
    },
    {
      "cell_type": "code",
      "source": [
        "# Check games if minage below 0 or above 200\n",
        "condition = (df[\"minage\"]<0)|(df[\"minage\"]>200)\n",
        "df[condition]\n",
        "\n",
        "# Check games if usersrated below 0\n",
        "condition = (df[\"usersrated\"]<=0)\n",
        "df[condition]\n",
        "\n",
        "# Check games if average below 0\n",
        "condition = (df[\"average\"]<=0)\n",
        "df[condition]\n",
        "df.shape"
      ],
      "metadata": {
        "colab": {
          "base_uri": "https://localhost:8080/"
        },
        "id": "GN1tI8hTGv0i",
        "outputId": "91ce85d1-7021-43a6-acb5-9779b1bfb3af"
      },
      "execution_count": 69,
      "outputs": [
        {
          "output_type": "execute_result",
          "data": {
            "text/plain": [
              "(19804, 17)"
            ]
          },
          "metadata": {},
          "execution_count": 69
        }
      ]
    },
    {
      "cell_type": "markdown",
      "source": [
        "1-4. 중복 데이터 제거"
      ],
      "metadata": {
        "id": "aM1CDAlCBnFO"
      }
    },
    {
      "cell_type": "code",
      "source": [
        "#check any duplicated data set\n",
        "df.duplicated().sum()"
      ],
      "metadata": {
        "colab": {
          "base_uri": "https://localhost:8080/"
        },
        "id": "CvwaNiVUHcwM",
        "outputId": "33487d53-ec88-409c-cc53-fd0316fc1971"
      },
      "execution_count": 70,
      "outputs": [
        {
          "output_type": "execute_result",
          "data": {
            "text/plain": [
              "0"
            ]
          },
          "metadata": {},
          "execution_count": 70
        }
      ]
    },
    {
      "cell_type": "markdown",
      "source": [
        "##2. 학습 할 \"description\" 데이터 프레임 전처리"
      ],
      "metadata": {
        "id": "OMNZjmwCBnDH"
      }
    },
    {
      "cell_type": "code",
      "source": [
        "#데이터 평가 많은 순으로 sort\n",
        "df.sort_values(by=[\"usersrated\",\"average\"],ascending=[False,False])\n",
        "df.head(3)"
      ],
      "metadata": {
        "colab": {
          "base_uri": "https://localhost:8080/",
          "height": 433
        },
        "id": "7Jx95JP7Ls3K",
        "outputId": "6c384429-35f9-4654-c034-bb1e69fb30d9"
      },
      "execution_count": 71,
      "outputs": [
        {
          "output_type": "execute_result",
          "data": {
            "text/plain": [
              "      id                                          thumbnail  \\\n",
              "0  30549  https://cf.geekdo-images.com/S3ybV1LAp-8SnHIXL...   \n",
              "1    822  https://cf.geekdo-images.com/okM0dq_bEXnbyQTOv...   \n",
              "2     13  https://cf.geekdo-images.com/W3Bsga_uLP9kO91gZ...   \n",
              "\n",
              "                                               image      primary  \\\n",
              "0  https://cf.geekdo-images.com/S3ybV1LAp-8SnHIXL...     Pandemic   \n",
              "1  https://cf.geekdo-images.com/okM0dq_bEXnbyQTOv...  Carcassonne   \n",
              "2  https://cf.geekdo-images.com/W3Bsga_uLP9kO91gZ...        Catan   \n",
              "\n",
              "                                         description  yearpublished  \\\n",
              "0  In Pandemic, several virulent diseases have br...           2008   \n",
              "1  Carcassonne is a tile-placement game in which ...           2000   \n",
              "2  In CATAN (formerly The Settlers of Catan), pla...           1995   \n",
              "\n",
              "   minplayers  maxplayers  playingtime  minplaytime  maxplaytime  minage  \\\n",
              "0           2           4           45           45           45       8   \n",
              "1           2           5           45           30           45       7   \n",
              "2           3           4          120           60          120      10   \n",
              "\n",
              "                                   boardgamecategory  usersrated  average  \\\n",
              "0                                        ['Medical']      109006  7.58896   \n",
              "1  ['City Building', 'Medieval', 'Territory Build...      108776  7.41837   \n",
              "2                        ['Economic', 'Negotiation']      108064  7.13598   \n",
              "\n",
              "  Board Game Rank  averageweight  \n",
              "0             106         2.4063  \n",
              "1             191         1.9057  \n",
              "2             429         2.3130  "
            ],
            "text/html": [
              "\n",
              "  <div id=\"df-17a4c144-631e-43b1-ae2f-843b59268ac2\">\n",
              "    <div class=\"colab-df-container\">\n",
              "      <div>\n",
              "<style scoped>\n",
              "    .dataframe tbody tr th:only-of-type {\n",
              "        vertical-align: middle;\n",
              "    }\n",
              "\n",
              "    .dataframe tbody tr th {\n",
              "        vertical-align: top;\n",
              "    }\n",
              "\n",
              "    .dataframe thead th {\n",
              "        text-align: right;\n",
              "    }\n",
              "</style>\n",
              "<table border=\"1\" class=\"dataframe\">\n",
              "  <thead>\n",
              "    <tr style=\"text-align: right;\">\n",
              "      <th></th>\n",
              "      <th>id</th>\n",
              "      <th>thumbnail</th>\n",
              "      <th>image</th>\n",
              "      <th>primary</th>\n",
              "      <th>description</th>\n",
              "      <th>yearpublished</th>\n",
              "      <th>minplayers</th>\n",
              "      <th>maxplayers</th>\n",
              "      <th>playingtime</th>\n",
              "      <th>minplaytime</th>\n",
              "      <th>maxplaytime</th>\n",
              "      <th>minage</th>\n",
              "      <th>boardgamecategory</th>\n",
              "      <th>usersrated</th>\n",
              "      <th>average</th>\n",
              "      <th>Board Game Rank</th>\n",
              "      <th>averageweight</th>\n",
              "    </tr>\n",
              "  </thead>\n",
              "  <tbody>\n",
              "    <tr>\n",
              "      <th>0</th>\n",
              "      <td>30549</td>\n",
              "      <td>https://cf.geekdo-images.com/S3ybV1LAp-8SnHIXL...</td>\n",
              "      <td>https://cf.geekdo-images.com/S3ybV1LAp-8SnHIXL...</td>\n",
              "      <td>Pandemic</td>\n",
              "      <td>In Pandemic, several virulent diseases have br...</td>\n",
              "      <td>2008</td>\n",
              "      <td>2</td>\n",
              "      <td>4</td>\n",
              "      <td>45</td>\n",
              "      <td>45</td>\n",
              "      <td>45</td>\n",
              "      <td>8</td>\n",
              "      <td>['Medical']</td>\n",
              "      <td>109006</td>\n",
              "      <td>7.58896</td>\n",
              "      <td>106</td>\n",
              "      <td>2.4063</td>\n",
              "    </tr>\n",
              "    <tr>\n",
              "      <th>1</th>\n",
              "      <td>822</td>\n",
              "      <td>https://cf.geekdo-images.com/okM0dq_bEXnbyQTOv...</td>\n",
              "      <td>https://cf.geekdo-images.com/okM0dq_bEXnbyQTOv...</td>\n",
              "      <td>Carcassonne</td>\n",
              "      <td>Carcassonne is a tile-placement game in which ...</td>\n",
              "      <td>2000</td>\n",
              "      <td>2</td>\n",
              "      <td>5</td>\n",
              "      <td>45</td>\n",
              "      <td>30</td>\n",
              "      <td>45</td>\n",
              "      <td>7</td>\n",
              "      <td>['City Building', 'Medieval', 'Territory Build...</td>\n",
              "      <td>108776</td>\n",
              "      <td>7.41837</td>\n",
              "      <td>191</td>\n",
              "      <td>1.9057</td>\n",
              "    </tr>\n",
              "    <tr>\n",
              "      <th>2</th>\n",
              "      <td>13</td>\n",
              "      <td>https://cf.geekdo-images.com/W3Bsga_uLP9kO91gZ...</td>\n",
              "      <td>https://cf.geekdo-images.com/W3Bsga_uLP9kO91gZ...</td>\n",
              "      <td>Catan</td>\n",
              "      <td>In CATAN (formerly The Settlers of Catan), pla...</td>\n",
              "      <td>1995</td>\n",
              "      <td>3</td>\n",
              "      <td>4</td>\n",
              "      <td>120</td>\n",
              "      <td>60</td>\n",
              "      <td>120</td>\n",
              "      <td>10</td>\n",
              "      <td>['Economic', 'Negotiation']</td>\n",
              "      <td>108064</td>\n",
              "      <td>7.13598</td>\n",
              "      <td>429</td>\n",
              "      <td>2.3130</td>\n",
              "    </tr>\n",
              "  </tbody>\n",
              "</table>\n",
              "</div>\n",
              "      <button class=\"colab-df-convert\" onclick=\"convertToInteractive('df-17a4c144-631e-43b1-ae2f-843b59268ac2')\"\n",
              "              title=\"Convert this dataframe to an interactive table.\"\n",
              "              style=\"display:none;\">\n",
              "        \n",
              "  <svg xmlns=\"http://www.w3.org/2000/svg\" height=\"24px\"viewBox=\"0 0 24 24\"\n",
              "       width=\"24px\">\n",
              "    <path d=\"M0 0h24v24H0V0z\" fill=\"none\"/>\n",
              "    <path d=\"M18.56 5.44l.94 2.06.94-2.06 2.06-.94-2.06-.94-.94-2.06-.94 2.06-2.06.94zm-11 1L8.5 8.5l.94-2.06 2.06-.94-2.06-.94L8.5 2.5l-.94 2.06-2.06.94zm10 10l.94 2.06.94-2.06 2.06-.94-2.06-.94-.94-2.06-.94 2.06-2.06.94z\"/><path d=\"M17.41 7.96l-1.37-1.37c-.4-.4-.92-.59-1.43-.59-.52 0-1.04.2-1.43.59L10.3 9.45l-7.72 7.72c-.78.78-.78 2.05 0 2.83L4 21.41c.39.39.9.59 1.41.59.51 0 1.02-.2 1.41-.59l7.78-7.78 2.81-2.81c.8-.78.8-2.07 0-2.86zM5.41 20L4 18.59l7.72-7.72 1.47 1.35L5.41 20z\"/>\n",
              "  </svg>\n",
              "      </button>\n",
              "      \n",
              "  <style>\n",
              "    .colab-df-container {\n",
              "      display:flex;\n",
              "      flex-wrap:wrap;\n",
              "      gap: 12px;\n",
              "    }\n",
              "\n",
              "    .colab-df-convert {\n",
              "      background-color: #E8F0FE;\n",
              "      border: none;\n",
              "      border-radius: 50%;\n",
              "      cursor: pointer;\n",
              "      display: none;\n",
              "      fill: #1967D2;\n",
              "      height: 32px;\n",
              "      padding: 0 0 0 0;\n",
              "      width: 32px;\n",
              "    }\n",
              "\n",
              "    .colab-df-convert:hover {\n",
              "      background-color: #E2EBFA;\n",
              "      box-shadow: 0px 1px 2px rgba(60, 64, 67, 0.3), 0px 1px 3px 1px rgba(60, 64, 67, 0.15);\n",
              "      fill: #174EA6;\n",
              "    }\n",
              "\n",
              "    [theme=dark] .colab-df-convert {\n",
              "      background-color: #3B4455;\n",
              "      fill: #D2E3FC;\n",
              "    }\n",
              "\n",
              "    [theme=dark] .colab-df-convert:hover {\n",
              "      background-color: #434B5C;\n",
              "      box-shadow: 0px 1px 3px 1px rgba(0, 0, 0, 0.15);\n",
              "      filter: drop-shadow(0px 1px 2px rgba(0, 0, 0, 0.3));\n",
              "      fill: #FFFFFF;\n",
              "    }\n",
              "  </style>\n",
              "\n",
              "      <script>\n",
              "        const buttonEl =\n",
              "          document.querySelector('#df-17a4c144-631e-43b1-ae2f-843b59268ac2 button.colab-df-convert');\n",
              "        buttonEl.style.display =\n",
              "          google.colab.kernel.accessAllowed ? 'block' : 'none';\n",
              "\n",
              "        async function convertToInteractive(key) {\n",
              "          const element = document.querySelector('#df-17a4c144-631e-43b1-ae2f-843b59268ac2');\n",
              "          const dataTable =\n",
              "            await google.colab.kernel.invokeFunction('convertToInteractive',\n",
              "                                                     [key], {});\n",
              "          if (!dataTable) return;\n",
              "\n",
              "          const docLinkHtml = 'Like what you see? Visit the ' +\n",
              "            '<a target=\"_blank\" href=https://colab.research.google.com/notebooks/data_table.ipynb>data table notebook</a>'\n",
              "            + ' to learn more about interactive tables.';\n",
              "          element.innerHTML = '';\n",
              "          dataTable['output_type'] = 'display_data';\n",
              "          await google.colab.output.renderOutput(dataTable, element);\n",
              "          const docLink = document.createElement('div');\n",
              "          docLink.innerHTML = docLinkHtml;\n",
              "          element.appendChild(docLink);\n",
              "        }\n",
              "      </script>\n",
              "    </div>\n",
              "  </div>\n",
              "  "
            ]
          },
          "metadata": {},
          "execution_count": 71
        }
      ]
    },
    {
      "cell_type": "code",
      "source": [
        "#new data set for DLM\n",
        "df_description = df[[\"id\",\"primary\",\"description\"]]\n",
        "df_description.head(3)"
      ],
      "metadata": {
        "colab": {
          "base_uri": "https://localhost:8080/",
          "height": 143
        },
        "id": "1I-dl_vXLX_s",
        "outputId": "0d931c5f-85b8-4300-b675-3402bb510647"
      },
      "execution_count": 72,
      "outputs": [
        {
          "output_type": "execute_result",
          "data": {
            "text/plain": [
              "      id      primary                                        description\n",
              "0  30549     Pandemic  In Pandemic, several virulent diseases have br...\n",
              "1    822  Carcassonne  Carcassonne is a tile-placement game in which ...\n",
              "2     13        Catan  In CATAN (formerly The Settlers of Catan), pla..."
            ],
            "text/html": [
              "\n",
              "  <div id=\"df-0bf3d5d7-0161-4821-8404-552eb03ca6c6\">\n",
              "    <div class=\"colab-df-container\">\n",
              "      <div>\n",
              "<style scoped>\n",
              "    .dataframe tbody tr th:only-of-type {\n",
              "        vertical-align: middle;\n",
              "    }\n",
              "\n",
              "    .dataframe tbody tr th {\n",
              "        vertical-align: top;\n",
              "    }\n",
              "\n",
              "    .dataframe thead th {\n",
              "        text-align: right;\n",
              "    }\n",
              "</style>\n",
              "<table border=\"1\" class=\"dataframe\">\n",
              "  <thead>\n",
              "    <tr style=\"text-align: right;\">\n",
              "      <th></th>\n",
              "      <th>id</th>\n",
              "      <th>primary</th>\n",
              "      <th>description</th>\n",
              "    </tr>\n",
              "  </thead>\n",
              "  <tbody>\n",
              "    <tr>\n",
              "      <th>0</th>\n",
              "      <td>30549</td>\n",
              "      <td>Pandemic</td>\n",
              "      <td>In Pandemic, several virulent diseases have br...</td>\n",
              "    </tr>\n",
              "    <tr>\n",
              "      <th>1</th>\n",
              "      <td>822</td>\n",
              "      <td>Carcassonne</td>\n",
              "      <td>Carcassonne is a tile-placement game in which ...</td>\n",
              "    </tr>\n",
              "    <tr>\n",
              "      <th>2</th>\n",
              "      <td>13</td>\n",
              "      <td>Catan</td>\n",
              "      <td>In CATAN (formerly The Settlers of Catan), pla...</td>\n",
              "    </tr>\n",
              "  </tbody>\n",
              "</table>\n",
              "</div>\n",
              "      <button class=\"colab-df-convert\" onclick=\"convertToInteractive('df-0bf3d5d7-0161-4821-8404-552eb03ca6c6')\"\n",
              "              title=\"Convert this dataframe to an interactive table.\"\n",
              "              style=\"display:none;\">\n",
              "        \n",
              "  <svg xmlns=\"http://www.w3.org/2000/svg\" height=\"24px\"viewBox=\"0 0 24 24\"\n",
              "       width=\"24px\">\n",
              "    <path d=\"M0 0h24v24H0V0z\" fill=\"none\"/>\n",
              "    <path d=\"M18.56 5.44l.94 2.06.94-2.06 2.06-.94-2.06-.94-.94-2.06-.94 2.06-2.06.94zm-11 1L8.5 8.5l.94-2.06 2.06-.94-2.06-.94L8.5 2.5l-.94 2.06-2.06.94zm10 10l.94 2.06.94-2.06 2.06-.94-2.06-.94-.94-2.06-.94 2.06-2.06.94z\"/><path d=\"M17.41 7.96l-1.37-1.37c-.4-.4-.92-.59-1.43-.59-.52 0-1.04.2-1.43.59L10.3 9.45l-7.72 7.72c-.78.78-.78 2.05 0 2.83L4 21.41c.39.39.9.59 1.41.59.51 0 1.02-.2 1.41-.59l7.78-7.78 2.81-2.81c.8-.78.8-2.07 0-2.86zM5.41 20L4 18.59l7.72-7.72 1.47 1.35L5.41 20z\"/>\n",
              "  </svg>\n",
              "      </button>\n",
              "      \n",
              "  <style>\n",
              "    .colab-df-container {\n",
              "      display:flex;\n",
              "      flex-wrap:wrap;\n",
              "      gap: 12px;\n",
              "    }\n",
              "\n",
              "    .colab-df-convert {\n",
              "      background-color: #E8F0FE;\n",
              "      border: none;\n",
              "      border-radius: 50%;\n",
              "      cursor: pointer;\n",
              "      display: none;\n",
              "      fill: #1967D2;\n",
              "      height: 32px;\n",
              "      padding: 0 0 0 0;\n",
              "      width: 32px;\n",
              "    }\n",
              "\n",
              "    .colab-df-convert:hover {\n",
              "      background-color: #E2EBFA;\n",
              "      box-shadow: 0px 1px 2px rgba(60, 64, 67, 0.3), 0px 1px 3px 1px rgba(60, 64, 67, 0.15);\n",
              "      fill: #174EA6;\n",
              "    }\n",
              "\n",
              "    [theme=dark] .colab-df-convert {\n",
              "      background-color: #3B4455;\n",
              "      fill: #D2E3FC;\n",
              "    }\n",
              "\n",
              "    [theme=dark] .colab-df-convert:hover {\n",
              "      background-color: #434B5C;\n",
              "      box-shadow: 0px 1px 3px 1px rgba(0, 0, 0, 0.15);\n",
              "      filter: drop-shadow(0px 1px 2px rgba(0, 0, 0, 0.3));\n",
              "      fill: #FFFFFF;\n",
              "    }\n",
              "  </style>\n",
              "\n",
              "      <script>\n",
              "        const buttonEl =\n",
              "          document.querySelector('#df-0bf3d5d7-0161-4821-8404-552eb03ca6c6 button.colab-df-convert');\n",
              "        buttonEl.style.display =\n",
              "          google.colab.kernel.accessAllowed ? 'block' : 'none';\n",
              "\n",
              "        async function convertToInteractive(key) {\n",
              "          const element = document.querySelector('#df-0bf3d5d7-0161-4821-8404-552eb03ca6c6');\n",
              "          const dataTable =\n",
              "            await google.colab.kernel.invokeFunction('convertToInteractive',\n",
              "                                                     [key], {});\n",
              "          if (!dataTable) return;\n",
              "\n",
              "          const docLinkHtml = 'Like what you see? Visit the ' +\n",
              "            '<a target=\"_blank\" href=https://colab.research.google.com/notebooks/data_table.ipynb>data table notebook</a>'\n",
              "            + ' to learn more about interactive tables.';\n",
              "          element.innerHTML = '';\n",
              "          dataTable['output_type'] = 'display_data';\n",
              "          await google.colab.output.renderOutput(dataTable, element);\n",
              "          const docLink = document.createElement('div');\n",
              "          docLink.innerHTML = docLinkHtml;\n",
              "          element.appendChild(docLink);\n",
              "        }\n",
              "      </script>\n",
              "    </div>\n",
              "  </div>\n",
              "  "
            ]
          },
          "metadata": {},
          "execution_count": 72
        }
      ]
    },
    {
      "cell_type": "code",
      "source": [
        "df_description = df_description[0:1000]\n",
        "df_description.shape"
      ],
      "metadata": {
        "colab": {
          "base_uri": "https://localhost:8080/"
        },
        "id": "VX3zMqcwNz4_",
        "outputId": "b29996ad-5215-48ef-c78d-5251fc355b01"
      },
      "execution_count": 73,
      "outputs": [
        {
          "output_type": "execute_result",
          "data": {
            "text/plain": [
              "(1000, 3)"
            ]
          },
          "metadata": {},
          "execution_count": 73
        }
      ]
    },
    {
      "cell_type": "markdown",
      "source": [
        "####2-1. 텍스트 기반으로 토큰에 넣기"
      ],
      "metadata": {
        "id": "f3al2VG4BnAf"
      }
    },
    {
      "cell_type": "code",
      "source": [
        "#spacy 이용하여 tokenzing\n",
        "import spacy\n",
        "from spacy.tokenizer import Tokenizer\n",
        "import re\n",
        "\n",
        "nlp = spacy.load(\"en_core_web_sm\")\n",
        "tokenizer = Tokenizer(nlp.vocab)\n",
        "\n",
        "subst = \"\"\n",
        "regex = r\"[^a-zA-Z0-9 \\n]\"\n",
        "\n",
        "def tokenize(text):\n",
        "    # Regex\n",
        "    tokens = re.sub(\";\", \" \", text)\n",
        "    tokens = re.sub(regex, subst, tokens)\n",
        "    # Lower\n",
        "    tokens = tokens.lower().split()\n",
        "    \n",
        "    return tokens"
      ],
      "metadata": {
        "id": "ec4RaQwDLQBz"
      },
      "execution_count": 74,
      "outputs": []
    },
    {
      "cell_type": "markdown",
      "source": [
        "####2-2. 토큰 정제(Regex, Lower)"
      ],
      "metadata": {
        "id": "zYrWVhqSBm-B"
      }
    },
    {
      "cell_type": "code",
      "source": [
        "df_token = df_description.copy()\n",
        "df_token['tokens'] = df_token['description'].apply(tokenize)\n",
        "\n",
        "df_token.head(5)"
      ],
      "metadata": {
        "colab": {
          "base_uri": "https://localhost:8080/",
          "height": 0
        },
        "id": "Kdu28B3aTed4",
        "outputId": "c2852c6c-8302-44c6-da6c-af289b368729"
      },
      "execution_count": 75,
      "outputs": [
        {
          "output_type": "execute_result",
          "data": {
            "text/plain": [
              "      id      primary                                        description  \\\n",
              "0  30549     Pandemic  In Pandemic, several virulent diseases have br...   \n",
              "1    822  Carcassonne  Carcassonne is a tile-placement game in which ...   \n",
              "2     13        Catan  In CATAN (formerly The Settlers of Catan), pla...   \n",
              "3  68448    7 Wonders  You are the leader of one of the 7 great citie...   \n",
              "4  36218     Dominion  &quot;You are a monarch, like your parents bef...   \n",
              "\n",
              "                                              tokens  \n",
              "0  [in, pandemic, several, virulent, diseases, ha...  \n",
              "1  [carcassonne, is, a, tileplacement, game, in, ...  \n",
              "2  [in, catan, formerly, the, settlers, of, catan...  \n",
              "3  [you, are, the, leader, of, one, of, the, 7, g...  \n",
              "4  [quot, you, are, a, monarch, like, your, paren...  "
            ],
            "text/html": [
              "\n",
              "  <div id=\"df-79058272-aff2-49ba-b007-99a9e355b42c\">\n",
              "    <div class=\"colab-df-container\">\n",
              "      <div>\n",
              "<style scoped>\n",
              "    .dataframe tbody tr th:only-of-type {\n",
              "        vertical-align: middle;\n",
              "    }\n",
              "\n",
              "    .dataframe tbody tr th {\n",
              "        vertical-align: top;\n",
              "    }\n",
              "\n",
              "    .dataframe thead th {\n",
              "        text-align: right;\n",
              "    }\n",
              "</style>\n",
              "<table border=\"1\" class=\"dataframe\">\n",
              "  <thead>\n",
              "    <tr style=\"text-align: right;\">\n",
              "      <th></th>\n",
              "      <th>id</th>\n",
              "      <th>primary</th>\n",
              "      <th>description</th>\n",
              "      <th>tokens</th>\n",
              "    </tr>\n",
              "  </thead>\n",
              "  <tbody>\n",
              "    <tr>\n",
              "      <th>0</th>\n",
              "      <td>30549</td>\n",
              "      <td>Pandemic</td>\n",
              "      <td>In Pandemic, several virulent diseases have br...</td>\n",
              "      <td>[in, pandemic, several, virulent, diseases, ha...</td>\n",
              "    </tr>\n",
              "    <tr>\n",
              "      <th>1</th>\n",
              "      <td>822</td>\n",
              "      <td>Carcassonne</td>\n",
              "      <td>Carcassonne is a tile-placement game in which ...</td>\n",
              "      <td>[carcassonne, is, a, tileplacement, game, in, ...</td>\n",
              "    </tr>\n",
              "    <tr>\n",
              "      <th>2</th>\n",
              "      <td>13</td>\n",
              "      <td>Catan</td>\n",
              "      <td>In CATAN (formerly The Settlers of Catan), pla...</td>\n",
              "      <td>[in, catan, formerly, the, settlers, of, catan...</td>\n",
              "    </tr>\n",
              "    <tr>\n",
              "      <th>3</th>\n",
              "      <td>68448</td>\n",
              "      <td>7 Wonders</td>\n",
              "      <td>You are the leader of one of the 7 great citie...</td>\n",
              "      <td>[you, are, the, leader, of, one, of, the, 7, g...</td>\n",
              "    </tr>\n",
              "    <tr>\n",
              "      <th>4</th>\n",
              "      <td>36218</td>\n",
              "      <td>Dominion</td>\n",
              "      <td>&amp;quot;You are a monarch, like your parents bef...</td>\n",
              "      <td>[quot, you, are, a, monarch, like, your, paren...</td>\n",
              "    </tr>\n",
              "  </tbody>\n",
              "</table>\n",
              "</div>\n",
              "      <button class=\"colab-df-convert\" onclick=\"convertToInteractive('df-79058272-aff2-49ba-b007-99a9e355b42c')\"\n",
              "              title=\"Convert this dataframe to an interactive table.\"\n",
              "              style=\"display:none;\">\n",
              "        \n",
              "  <svg xmlns=\"http://www.w3.org/2000/svg\" height=\"24px\"viewBox=\"0 0 24 24\"\n",
              "       width=\"24px\">\n",
              "    <path d=\"M0 0h24v24H0V0z\" fill=\"none\"/>\n",
              "    <path d=\"M18.56 5.44l.94 2.06.94-2.06 2.06-.94-2.06-.94-.94-2.06-.94 2.06-2.06.94zm-11 1L8.5 8.5l.94-2.06 2.06-.94-2.06-.94L8.5 2.5l-.94 2.06-2.06.94zm10 10l.94 2.06.94-2.06 2.06-.94-2.06-.94-.94-2.06-.94 2.06-2.06.94z\"/><path d=\"M17.41 7.96l-1.37-1.37c-.4-.4-.92-.59-1.43-.59-.52 0-1.04.2-1.43.59L10.3 9.45l-7.72 7.72c-.78.78-.78 2.05 0 2.83L4 21.41c.39.39.9.59 1.41.59.51 0 1.02-.2 1.41-.59l7.78-7.78 2.81-2.81c.8-.78.8-2.07 0-2.86zM5.41 20L4 18.59l7.72-7.72 1.47 1.35L5.41 20z\"/>\n",
              "  </svg>\n",
              "      </button>\n",
              "      \n",
              "  <style>\n",
              "    .colab-df-container {\n",
              "      display:flex;\n",
              "      flex-wrap:wrap;\n",
              "      gap: 12px;\n",
              "    }\n",
              "\n",
              "    .colab-df-convert {\n",
              "      background-color: #E8F0FE;\n",
              "      border: none;\n",
              "      border-radius: 50%;\n",
              "      cursor: pointer;\n",
              "      display: none;\n",
              "      fill: #1967D2;\n",
              "      height: 32px;\n",
              "      padding: 0 0 0 0;\n",
              "      width: 32px;\n",
              "    }\n",
              "\n",
              "    .colab-df-convert:hover {\n",
              "      background-color: #E2EBFA;\n",
              "      box-shadow: 0px 1px 2px rgba(60, 64, 67, 0.3), 0px 1px 3px 1px rgba(60, 64, 67, 0.15);\n",
              "      fill: #174EA6;\n",
              "    }\n",
              "\n",
              "    [theme=dark] .colab-df-convert {\n",
              "      background-color: #3B4455;\n",
              "      fill: #D2E3FC;\n",
              "    }\n",
              "\n",
              "    [theme=dark] .colab-df-convert:hover {\n",
              "      background-color: #434B5C;\n",
              "      box-shadow: 0px 1px 3px 1px rgba(0, 0, 0, 0.15);\n",
              "      filter: drop-shadow(0px 1px 2px rgba(0, 0, 0, 0.3));\n",
              "      fill: #FFFFFF;\n",
              "    }\n",
              "  </style>\n",
              "\n",
              "      <script>\n",
              "        const buttonEl =\n",
              "          document.querySelector('#df-79058272-aff2-49ba-b007-99a9e355b42c button.colab-df-convert');\n",
              "        buttonEl.style.display =\n",
              "          google.colab.kernel.accessAllowed ? 'block' : 'none';\n",
              "\n",
              "        async function convertToInteractive(key) {\n",
              "          const element = document.querySelector('#df-79058272-aff2-49ba-b007-99a9e355b42c');\n",
              "          const dataTable =\n",
              "            await google.colab.kernel.invokeFunction('convertToInteractive',\n",
              "                                                     [key], {});\n",
              "          if (!dataTable) return;\n",
              "\n",
              "          const docLinkHtml = 'Like what you see? Visit the ' +\n",
              "            '<a target=\"_blank\" href=https://colab.research.google.com/notebooks/data_table.ipynb>data table notebook</a>'\n",
              "            + ' to learn more about interactive tables.';\n",
              "          element.innerHTML = '';\n",
              "          dataTable['output_type'] = 'display_data';\n",
              "          await google.colab.output.renderOutput(dataTable, element);\n",
              "          const docLink = document.createElement('div');\n",
              "          docLink.innerHTML = docLinkHtml;\n",
              "          element.appendChild(docLink);\n",
              "        }\n",
              "      </script>\n",
              "    </div>\n",
              "  </div>\n",
              "  "
            ]
          },
          "metadata": {},
          "execution_count": 75
        }
      ]
    },
    {
      "cell_type": "markdown",
      "source": [
        "####2-3. 토큰 시각화(중간 점검)"
      ],
      "metadata": {
        "id": "UrKQKelyTOjp"
      }
    },
    {
      "cell_type": "code",
      "source": [
        "from collections import Counter\n",
        "\n",
        "def word_count(docs):\n",
        "    \"\"\" 토큰화된 문서들을 입력받아 토큰을 카운트 하고 관련된 속성을 가진 데이터프레임을 리턴합니다.\n",
        "    Args:\n",
        "        docs (series or list): 토큰화된 문서가 들어있는 list\n",
        "    Returns:\n",
        "        list: Dataframe\n",
        "    \"\"\"\n",
        "    # 전체 코퍼스에서 단어 빈도 카운트\n",
        "    word_counts = Counter()\n",
        "\n",
        "    # 단어가 존재하는 문서의 빈도 카운트, 단어가 한 번 이상 존재하면 +1\n",
        "    word_in_docs = Counter()\n",
        "\n",
        "    # 전체 문서의 갯수\n",
        "    total_docs = len(docs)\n",
        "\n",
        "    for doc in docs:\n",
        "        word_counts.update(doc)\n",
        "        word_in_docs.update(set(doc))\n",
        "\n",
        "    temp = zip(word_counts.keys(), word_counts.values())\n",
        "\n",
        "    wc = pd.DataFrame(temp, columns = ['word', 'count'])\n",
        "\n",
        "    # 단어의 순위\n",
        "    # method='first': 같은 값의 경우 먼저나온 요소를 우선\n",
        "    wc['rank'] = wc['count'].rank(method='first', ascending=False)\n",
        "    total = wc['count'].sum()\n",
        "\n",
        "    # 코퍼스 내 단어의 비율\n",
        "    wc['percent'] = wc['count'].apply(lambda x: x / total)\n",
        "\n",
        "    wc = wc.sort_values(by='rank')\n",
        "\n",
        "    # 누적 비율\n",
        "    # cumsum() : cumulative sum\n",
        "    wc['cul_percent'] = wc['percent'].cumsum()\n",
        "\n",
        "    temp2 = zip(word_in_docs.keys(), word_in_docs.values())\n",
        "    ac = pd.DataFrame(temp2, columns=['word', 'word_in_docs'])\n",
        "    wc = ac.merge(wc, on='word')\n",
        "    \n",
        "    # 전체 문서 중 존재하는 비율\n",
        "    wc['word_in_docs_percent'] = wc['word_in_docs'].apply(lambda x: x / total_docs)\n",
        "\n",
        "    return wc.sort_values(by='rank')\n",
        "\n",
        "wc = word_count(df_token['tokens'])\n",
        "wc.head()"
      ],
      "metadata": {
        "colab": {
          "base_uri": "https://localhost:8080/",
          "height": 0
        },
        "id": "wdbqDTHmTS5O",
        "outputId": "c9105ca0-5f0c-413b-da83-979d4ccb0d15"
      },
      "execution_count": 76,
      "outputs": [
        {
          "output_type": "execute_result",
          "data": {
            "text/plain": [
              "    word  word_in_docs  count  rank   percent  cul_percent  \\\n",
              "54   the          1000  17967   1.0  0.071086     0.071086   \n",
              "0     of           985   7773   2.0  0.030754     0.101840   \n",
              "68    to           980   7133   3.0  0.028222     0.130061   \n",
              "57   and           986   6908   4.0  0.027331     0.157393   \n",
              "105    a           968   6204   5.0  0.024546     0.181939   \n",
              "\n",
              "     word_in_docs_percent  \n",
              "54                  1.000  \n",
              "0                   0.985  \n",
              "68                  0.980  \n",
              "57                  0.986  \n",
              "105                 0.968  "
            ],
            "text/html": [
              "\n",
              "  <div id=\"df-fc418580-9a1a-493e-a91d-1e9b2aa6d458\">\n",
              "    <div class=\"colab-df-container\">\n",
              "      <div>\n",
              "<style scoped>\n",
              "    .dataframe tbody tr th:only-of-type {\n",
              "        vertical-align: middle;\n",
              "    }\n",
              "\n",
              "    .dataframe tbody tr th {\n",
              "        vertical-align: top;\n",
              "    }\n",
              "\n",
              "    .dataframe thead th {\n",
              "        text-align: right;\n",
              "    }\n",
              "</style>\n",
              "<table border=\"1\" class=\"dataframe\">\n",
              "  <thead>\n",
              "    <tr style=\"text-align: right;\">\n",
              "      <th></th>\n",
              "      <th>word</th>\n",
              "      <th>word_in_docs</th>\n",
              "      <th>count</th>\n",
              "      <th>rank</th>\n",
              "      <th>percent</th>\n",
              "      <th>cul_percent</th>\n",
              "      <th>word_in_docs_percent</th>\n",
              "    </tr>\n",
              "  </thead>\n",
              "  <tbody>\n",
              "    <tr>\n",
              "      <th>54</th>\n",
              "      <td>the</td>\n",
              "      <td>1000</td>\n",
              "      <td>17967</td>\n",
              "      <td>1.0</td>\n",
              "      <td>0.071086</td>\n",
              "      <td>0.071086</td>\n",
              "      <td>1.000</td>\n",
              "    </tr>\n",
              "    <tr>\n",
              "      <th>0</th>\n",
              "      <td>of</td>\n",
              "      <td>985</td>\n",
              "      <td>7773</td>\n",
              "      <td>2.0</td>\n",
              "      <td>0.030754</td>\n",
              "      <td>0.101840</td>\n",
              "      <td>0.985</td>\n",
              "    </tr>\n",
              "    <tr>\n",
              "      <th>68</th>\n",
              "      <td>to</td>\n",
              "      <td>980</td>\n",
              "      <td>7133</td>\n",
              "      <td>3.0</td>\n",
              "      <td>0.028222</td>\n",
              "      <td>0.130061</td>\n",
              "      <td>0.980</td>\n",
              "    </tr>\n",
              "    <tr>\n",
              "      <th>57</th>\n",
              "      <td>and</td>\n",
              "      <td>986</td>\n",
              "      <td>6908</td>\n",
              "      <td>4.0</td>\n",
              "      <td>0.027331</td>\n",
              "      <td>0.157393</td>\n",
              "      <td>0.986</td>\n",
              "    </tr>\n",
              "    <tr>\n",
              "      <th>105</th>\n",
              "      <td>a</td>\n",
              "      <td>968</td>\n",
              "      <td>6204</td>\n",
              "      <td>5.0</td>\n",
              "      <td>0.024546</td>\n",
              "      <td>0.181939</td>\n",
              "      <td>0.968</td>\n",
              "    </tr>\n",
              "  </tbody>\n",
              "</table>\n",
              "</div>\n",
              "      <button class=\"colab-df-convert\" onclick=\"convertToInteractive('df-fc418580-9a1a-493e-a91d-1e9b2aa6d458')\"\n",
              "              title=\"Convert this dataframe to an interactive table.\"\n",
              "              style=\"display:none;\">\n",
              "        \n",
              "  <svg xmlns=\"http://www.w3.org/2000/svg\" height=\"24px\"viewBox=\"0 0 24 24\"\n",
              "       width=\"24px\">\n",
              "    <path d=\"M0 0h24v24H0V0z\" fill=\"none\"/>\n",
              "    <path d=\"M18.56 5.44l.94 2.06.94-2.06 2.06-.94-2.06-.94-.94-2.06-.94 2.06-2.06.94zm-11 1L8.5 8.5l.94-2.06 2.06-.94-2.06-.94L8.5 2.5l-.94 2.06-2.06.94zm10 10l.94 2.06.94-2.06 2.06-.94-2.06-.94-.94-2.06-.94 2.06-2.06.94z\"/><path d=\"M17.41 7.96l-1.37-1.37c-.4-.4-.92-.59-1.43-.59-.52 0-1.04.2-1.43.59L10.3 9.45l-7.72 7.72c-.78.78-.78 2.05 0 2.83L4 21.41c.39.39.9.59 1.41.59.51 0 1.02-.2 1.41-.59l7.78-7.78 2.81-2.81c.8-.78.8-2.07 0-2.86zM5.41 20L4 18.59l7.72-7.72 1.47 1.35L5.41 20z\"/>\n",
              "  </svg>\n",
              "      </button>\n",
              "      \n",
              "  <style>\n",
              "    .colab-df-container {\n",
              "      display:flex;\n",
              "      flex-wrap:wrap;\n",
              "      gap: 12px;\n",
              "    }\n",
              "\n",
              "    .colab-df-convert {\n",
              "      background-color: #E8F0FE;\n",
              "      border: none;\n",
              "      border-radius: 50%;\n",
              "      cursor: pointer;\n",
              "      display: none;\n",
              "      fill: #1967D2;\n",
              "      height: 32px;\n",
              "      padding: 0 0 0 0;\n",
              "      width: 32px;\n",
              "    }\n",
              "\n",
              "    .colab-df-convert:hover {\n",
              "      background-color: #E2EBFA;\n",
              "      box-shadow: 0px 1px 2px rgba(60, 64, 67, 0.3), 0px 1px 3px 1px rgba(60, 64, 67, 0.15);\n",
              "      fill: #174EA6;\n",
              "    }\n",
              "\n",
              "    [theme=dark] .colab-df-convert {\n",
              "      background-color: #3B4455;\n",
              "      fill: #D2E3FC;\n",
              "    }\n",
              "\n",
              "    [theme=dark] .colab-df-convert:hover {\n",
              "      background-color: #434B5C;\n",
              "      box-shadow: 0px 1px 3px 1px rgba(0, 0, 0, 0.15);\n",
              "      filter: drop-shadow(0px 1px 2px rgba(0, 0, 0, 0.3));\n",
              "      fill: #FFFFFF;\n",
              "    }\n",
              "  </style>\n",
              "\n",
              "      <script>\n",
              "        const buttonEl =\n",
              "          document.querySelector('#df-fc418580-9a1a-493e-a91d-1e9b2aa6d458 button.colab-df-convert');\n",
              "        buttonEl.style.display =\n",
              "          google.colab.kernel.accessAllowed ? 'block' : 'none';\n",
              "\n",
              "        async function convertToInteractive(key) {\n",
              "          const element = document.querySelector('#df-fc418580-9a1a-493e-a91d-1e9b2aa6d458');\n",
              "          const dataTable =\n",
              "            await google.colab.kernel.invokeFunction('convertToInteractive',\n",
              "                                                     [key], {});\n",
              "          if (!dataTable) return;\n",
              "\n",
              "          const docLinkHtml = 'Like what you see? Visit the ' +\n",
              "            '<a target=\"_blank\" href=https://colab.research.google.com/notebooks/data_table.ipynb>data table notebook</a>'\n",
              "            + ' to learn more about interactive tables.';\n",
              "          element.innerHTML = '';\n",
              "          dataTable['output_type'] = 'display_data';\n",
              "          await google.colab.output.renderOutput(dataTable, element);\n",
              "          const docLink = document.createElement('div');\n",
              "          docLink.innerHTML = docLinkHtml;\n",
              "          element.appendChild(docLink);\n",
              "        }\n",
              "      </script>\n",
              "    </div>\n",
              "  </div>\n",
              "  "
            ]
          },
          "metadata": {},
          "execution_count": 76
        }
      ]
    },
    {
      "cell_type": "code",
      "source": [
        "import seaborn as sns\n",
        "\n",
        "sns.lineplot(x='rank', y='cul_percent', data=wc);"
      ],
      "metadata": {
        "colab": {
          "base_uri": "https://localhost:8080/",
          "height": 0
        },
        "id": "j18CpJM-UOno",
        "outputId": "964f22ac-cf4d-44c6-82a9-e888f66ba75f"
      },
      "execution_count": 77,
      "outputs": [
        {
          "output_type": "display_data",
          "data": {
            "text/plain": [
              "<Figure size 432x288 with 1 Axes>"
            ],
            "image/png": "[encoded data removed]"
          },
          "metadata": {
            "needs_background": "light"
          }
        }
      ]
    },
    {
      "cell_type": "code",
      "source": [
        "wc[wc['rank'] <= 3000]['cul_percent'].max()"
      ],
      "metadata": {
        "colab": {
          "base_uri": "https://localhost:8080/"
        },
        "id": "n9CO3lT2UdIM",
        "outputId": "0e0be7db-bcf0-40da-abd3-74b25505df01"
      },
      "execution_count": 78,
      "outputs": [
        {
          "output_type": "execute_result",
          "data": {
            "text/plain": [
              "0.8801899109792217"
            ]
          },
          "metadata": {},
          "execution_count": 78
        }
      ]
    },
    {
      "cell_type": "markdown",
      "source": [
        "####2-4. 불용어(Stop words)"
      ],
      "metadata": {
        "id": "OKXc6puTBm7Y"
      }
    },
    {
      "cell_type": "code",
      "source": [
        "STOP_WORDS = nlp.Defaults.stop_words.union(['9','10','game','boardgame','quot','\\n','\\n\\n'])\n",
        "\n",
        "\n",
        "tokens = []\n",
        "# 토큰에서 불용어 제거, 소문자화 하여 업데이트\n",
        "for doc in df_token['tokens']:\n",
        "    doc_tokens = []\n",
        "\n",
        "    for token in doc: \n",
        "        if token not in STOP_WORDS:\n",
        "            doc_tokens.append(token)\n",
        "\n",
        "    tokens.append(doc_tokens)\n",
        "\n",
        "df_token['tokens'] = tokens\n",
        "word_count(df_token['tokens']).head(10)"
      ],
      "metadata": {
        "id": "qr_sl0GbUhrm",
        "colab": {
          "base_uri": "https://localhost:8080/",
          "height": 0
        },
        "outputId": "e973587a-fe7d-42fa-9629-877a51fb8bdf"
      },
      "execution_count": 79,
      "outputs": [
        {
          "output_type": "execute_result",
          "data": {
            "text/plain": [
              "          word  word_in_docs  count  rank   percent  cul_percent  \\\n",
              "26     players           825   2419   1.0  0.019556     0.019556   \n",
              "87       cards           505   1828   2.0  0.014778     0.034334   \n",
              "20      player           632   1669   3.0  0.013493     0.047827   \n",
              "301       card           355   1015   4.0  0.008206     0.056033   \n",
              "54         new           422    794   5.0  0.006419     0.062451   \n",
              "132     points           365    717   6.0  0.005796     0.068248   \n",
              "346       play           396    673   7.0  0.005441     0.073689   \n",
              "59       board           343    586   8.0  0.004737     0.078426   \n",
              "65        turn           376    580   9.0  0.004689     0.083115   \n",
              "557  different           294    437  10.0  0.003533     0.086648   \n",
              "\n",
              "     word_in_docs_percent  \n",
              "26                  0.825  \n",
              "87                  0.505  \n",
              "20                  0.632  \n",
              "301                 0.355  \n",
              "54                  0.422  \n",
              "132                 0.365  \n",
              "346                 0.396  \n",
              "59                  0.343  \n",
              "65                  0.376  \n",
              "557                 0.294  "
            ],
            "text/html": [
              "\n",
              "  <div id=\"df-213984a0-736e-41dd-8f6f-ee2846b154a5\">\n",
              "    <div class=\"colab-df-container\">\n",
              "      <div>\n",
              "<style scoped>\n",
              "    .dataframe tbody tr th:only-of-type {\n",
              "        vertical-align: middle;\n",
              "    }\n",
              "\n",
              "    .dataframe tbody tr th {\n",
              "        vertical-align: top;\n",
              "    }\n",
              "\n",
              "    .dataframe thead th {\n",
              "        text-align: right;\n",
              "    }\n",
              "</style>\n",
              "<table border=\"1\" class=\"dataframe\">\n",
              "  <thead>\n",
              "    <tr style=\"text-align: right;\">\n",
              "      <th></th>\n",
              "      <th>word</th>\n",
              "      <th>word_in_docs</th>\n",
              "      <th>count</th>\n",
              "      <th>rank</th>\n",
              "      <th>percent</th>\n",
              "      <th>cul_percent</th>\n",
              "      <th>word_in_docs_percent</th>\n",
              "    </tr>\n",
              "  </thead>\n",
              "  <tbody>\n",
              "    <tr>\n",
              "      <th>26</th>\n",
              "      <td>players</td>\n",
              "      <td>825</td>\n",
              "      <td>2419</td>\n",
              "      <td>1.0</td>\n",
              "      <td>0.019556</td>\n",
              "      <td>0.019556</td>\n",
              "      <td>0.825</td>\n",
              "    </tr>\n",
              "    <tr>\n",
              "      <th>87</th>\n",
              "      <td>cards</td>\n",
              "      <td>505</td>\n",
              "      <td>1828</td>\n",
              "      <td>2.0</td>\n",
              "      <td>0.014778</td>\n",
              "      <td>0.034334</td>\n",
              "      <td>0.505</td>\n",
              "    </tr>\n",
              "    <tr>\n",
              "      <th>20</th>\n",
              "      <td>player</td>\n",
              "      <td>632</td>\n",
              "      <td>1669</td>\n",
              "      <td>3.0</td>\n",
              "      <td>0.013493</td>\n",
              "      <td>0.047827</td>\n",
              "      <td>0.632</td>\n",
              "    </tr>\n",
              "    <tr>\n",
              "      <th>301</th>\n",
              "      <td>card</td>\n",
              "      <td>355</td>\n",
              "      <td>1015</td>\n",
              "      <td>4.0</td>\n",
              "      <td>0.008206</td>\n",
              "      <td>0.056033</td>\n",
              "      <td>0.355</td>\n",
              "    </tr>\n",
              "    <tr>\n",
              "      <th>54</th>\n",
              "      <td>new</td>\n",
              "      <td>422</td>\n",
              "      <td>794</td>\n",
              "      <td>5.0</td>\n",
              "      <td>0.006419</td>\n",
              "      <td>0.062451</td>\n",
              "      <td>0.422</td>\n",
              "    </tr>\n",
              "    <tr>\n",
              "      <th>132</th>\n",
              "      <td>points</td>\n",
              "      <td>365</td>\n",
              "      <td>717</td>\n",
              "      <td>6.0</td>\n",
              "      <td>0.005796</td>\n",
              "      <td>0.068248</td>\n",
              "      <td>0.365</td>\n",
              "    </tr>\n",
              "    <tr>\n",
              "      <th>346</th>\n",
              "      <td>play</td>\n",
              "      <td>396</td>\n",
              "      <td>673</td>\n",
              "      <td>7.0</td>\n",
              "      <td>0.005441</td>\n",
              "      <td>0.073689</td>\n",
              "      <td>0.396</td>\n",
              "    </tr>\n",
              "    <tr>\n",
              "      <th>59</th>\n",
              "      <td>board</td>\n",
              "      <td>343</td>\n",
              "      <td>586</td>\n",
              "      <td>8.0</td>\n",
              "      <td>0.004737</td>\n",
              "      <td>0.078426</td>\n",
              "      <td>0.343</td>\n",
              "    </tr>\n",
              "    <tr>\n",
              "      <th>65</th>\n",
              "      <td>turn</td>\n",
              "      <td>376</td>\n",
              "      <td>580</td>\n",
              "      <td>9.0</td>\n",
              "      <td>0.004689</td>\n",
              "      <td>0.083115</td>\n",
              "      <td>0.376</td>\n",
              "    </tr>\n",
              "    <tr>\n",
              "      <th>557</th>\n",
              "      <td>different</td>\n",
              "      <td>294</td>\n",
              "      <td>437</td>\n",
              "      <td>10.0</td>\n",
              "      <td>0.003533</td>\n",
              "      <td>0.086648</td>\n",
              "      <td>0.294</td>\n",
              "    </tr>\n",
              "  </tbody>\n",
              "</table>\n",
              "</div>\n",
              "      <button class=\"colab-df-convert\" onclick=\"convertToInteractive('df-213984a0-736e-41dd-8f6f-ee2846b154a5')\"\n",
              "              title=\"Convert this dataframe to an interactive table.\"\n",
              "              style=\"display:none;\">\n",
              "        \n",
              "  <svg xmlns=\"http://www.w3.org/2000/svg\" height=\"24px\"viewBox=\"0 0 24 24\"\n",
              "       width=\"24px\">\n",
              "    <path d=\"M0 0h24v24H0V0z\" fill=\"none\"/>\n",
              "    <path d=\"M18.56 5.44l.94 2.06.94-2.06 2.06-.94-2.06-.94-.94-2.06-.94 2.06-2.06.94zm-11 1L8.5 8.5l.94-2.06 2.06-.94-2.06-.94L8.5 2.5l-.94 2.06-2.06.94zm10 10l.94 2.06.94-2.06 2.06-.94-2.06-.94-.94-2.06-.94 2.06-2.06.94z\"/><path d=\"M17.41 7.96l-1.37-1.37c-.4-.4-.92-.59-1.43-.59-.52 0-1.04.2-1.43.59L10.3 9.45l-7.72 7.72c-.78.78-.78 2.05 0 2.83L4 21.41c.39.39.9.59 1.41.59.51 0 1.02-.2 1.41-.59l7.78-7.78 2.81-2.81c.8-.78.8-2.07 0-2.86zM5.41 20L4 18.59l7.72-7.72 1.47 1.35L5.41 20z\"/>\n",
              "  </svg>\n",
              "      </button>\n",
              "      \n",
              "  <style>\n",
              "    .colab-df-container {\n",
              "      display:flex;\n",
              "      flex-wrap:wrap;\n",
              "      gap: 12px;\n",
              "    }\n",
              "\n",
              "    .colab-df-convert {\n",
              "      background-color: #E8F0FE;\n",
              "      border: none;\n",
              "      border-radius: 50%;\n",
              "      cursor: pointer;\n",
              "      display: none;\n",
              "      fill: #1967D2;\n",
              "      height: 32px;\n",
              "      padding: 0 0 0 0;\n",
              "      width: 32px;\n",
              "    }\n",
              "\n",
              "    .colab-df-convert:hover {\n",
              "      background-color: #E2EBFA;\n",
              "      box-shadow: 0px 1px 2px rgba(60, 64, 67, 0.3), 0px 1px 3px 1px rgba(60, 64, 67, 0.15);\n",
              "      fill: #174EA6;\n",
              "    }\n",
              "\n",
              "    [theme=dark] .colab-df-convert {\n",
              "      background-color: #3B4455;\n",
              "      fill: #D2E3FC;\n",
              "    }\n",
              "\n",
              "    [theme=dark] .colab-df-convert:hover {\n",
              "      background-color: #434B5C;\n",
              "      box-shadow: 0px 1px 3px 1px rgba(0, 0, 0, 0.15);\n",
              "      filter: drop-shadow(0px 1px 2px rgba(0, 0, 0, 0.3));\n",
              "      fill: #FFFFFF;\n",
              "    }\n",
              "  </style>\n",
              "\n",
              "      <script>\n",
              "        const buttonEl =\n",
              "          document.querySelector('#df-213984a0-736e-41dd-8f6f-ee2846b154a5 button.colab-df-convert');\n",
              "        buttonEl.style.display =\n",
              "          google.colab.kernel.accessAllowed ? 'block' : 'none';\n",
              "\n",
              "        async function convertToInteractive(key) {\n",
              "          const element = document.querySelector('#df-213984a0-736e-41dd-8f6f-ee2846b154a5');\n",
              "          const dataTable =\n",
              "            await google.colab.kernel.invokeFunction('convertToInteractive',\n",
              "                                                     [key], {});\n",
              "          if (!dataTable) return;\n",
              "\n",
              "          const docLinkHtml = 'Like what you see? Visit the ' +\n",
              "            '<a target=\"_blank\" href=https://colab.research.google.com/notebooks/data_table.ipynb>data table notebook</a>'\n",
              "            + ' to learn more about interactive tables.';\n",
              "          element.innerHTML = '';\n",
              "          dataTable['output_type'] = 'display_data';\n",
              "          await google.colab.output.renderOutput(dataTable, element);\n",
              "          const docLink = document.createElement('div');\n",
              "          docLink.innerHTML = docLinkHtml;\n",
              "          element.appendChild(docLink);\n",
              "        }\n",
              "      </script>\n",
              "    </div>\n",
              "  </div>\n",
              "  "
            ]
          },
          "metadata": {},
          "execution_count": 79
        }
      ]
    },
    {
      "cell_type": "markdown",
      "source": [
        "####2-5. 표제어 추출(Stemming)"
      ],
      "metadata": {
        "id": "juOnFohVBm48"
      }
    },
    {
      "cell_type": "code",
      "source": [
        "from nltk.stem import PorterStemmer\n",
        "\n",
        "ps = PorterStemmer()\n",
        "\n",
        "tokens = []\n",
        "for doc in df_token['tokens']:\n",
        "    doc_tokens = []\n",
        "    for token in doc:\n",
        "        doc_tokens.append(ps.stem(token))\n",
        "    tokens.append(doc_tokens)\n",
        "\n",
        "df_token['tokens'] = tokens"
      ],
      "metadata": {
        "id": "eJmKFidHapmW"
      },
      "execution_count": 80,
      "outputs": []
    },
    {
      "cell_type": "code",
      "source": [
        "df_token"
      ],
      "metadata": {
        "colab": {
          "base_uri": "https://localhost:8080/",
          "height": 0
        },
        "id": "GUCVqiQmgI6i",
        "outputId": "ec5eb709-381e-4867-b5c5-ee53ae75a818"
      },
      "execution_count": 81,
      "outputs": [
        {
          "output_type": "execute_result",
          "data": {
            "text/plain": [
              "          id                    primary  \\\n",
              "0      30549                   Pandemic   \n",
              "1        822                Carcassonne   \n",
              "2         13                      Catan   \n",
              "3      68448                  7 Wonders   \n",
              "4      36218                   Dominion   \n",
              "...      ...                        ...   \n",
              "1014  165950                 Beasty Bar   \n",
              "1015     249                  Lifeboats   \n",
              "1016     340                Frank's Zoo   \n",
              "1017  144797     Argent: The Consortium   \n",
              "1018  129051  Le Havre: The Inland Port   \n",
              "\n",
              "                                            description  \\\n",
              "0     In Pandemic, several virulent diseases have br...   \n",
              "1     Carcassonne is a tile-placement game in which ...   \n",
              "2     In CATAN (formerly The Settlers of Catan), pla...   \n",
              "3     You are the leader of one of the 7 great citie...   \n",
              "4     &quot;You are a monarch, like your parents bef...   \n",
              "...                                                 ...   \n",
              "1014  The animals are dressed up and ready to enter ...   \n",
              "1015  Also known as 'Rette Sich Wer Kann' ('Each Man...   \n",
              "1016  This game is played in several hands. In each ...   \n",
              "1017  The time has come for the selection of a new C...   \n",
              "1018  Le Havre: The Inland Port is a two-player game...   \n",
              "\n",
              "                                                 tokens  \n",
              "0     [pandem, virul, diseas, broken, simultan, worl...  \n",
              "1     [carcassonn, tileplac, player, draw, place, ti...  \n",
              "2     [catan, settler, catan, player, tri, domin, fo...  \n",
              "3     [leader, 7, great, citi, ancient, world, gathe...  \n",
              "4     [monarch, like, parent, ruler, small, pleasant...  \n",
              "...                                                 ...  \n",
              "1014  [anim, dress, readi, enter, beasti, barquot, n...  \n",
              "1015  [known, rett, sich, wer, kann, man, time, refe...  \n",
              "1016  [play, hand, hand, player, tri, rid, card, sco...  \n",
              "1017  [time, come, select, new, chancellor, argent, ...  \n",
              "1018  [le, havr, inland, port, twoplay, player, comp...  \n",
              "\n",
              "[1000 rows x 4 columns]"
            ],
            "text/html": [
              "\n",
              "  <div id=\"df-d7a69ccf-7fa5-4bb3-8f27-6d7f02fcc3c3\">\n",
              "    <div class=\"colab-df-container\">\n",
              "      <div>\n",
              "<style scoped>\n",
              "    .dataframe tbody tr th:only-of-type {\n",
              "        vertical-align: middle;\n",
              "    }\n",
              "\n",
              "    .dataframe tbody tr th {\n",
              "        vertical-align: top;\n",
              "    }\n",
              "\n",
              "    .dataframe thead th {\n",
              "        text-align: right;\n",
              "    }\n",
              "</style>\n",
              "<table border=\"1\" class=\"dataframe\">\n",
              "  <thead>\n",
              "    <tr style=\"text-align: right;\">\n",
              "      <th></th>\n",
              "      <th>id</th>\n",
              "      <th>primary</th>\n",
              "      <th>description</th>\n",
              "      <th>tokens</th>\n",
              "    </tr>\n",
              "  </thead>\n",
              "  <tbody>\n",
              "    <tr>\n",
              "      <th>0</th>\n",
              "      <td>30549</td>\n",
              "      <td>Pandemic</td>\n",
              "      <td>In Pandemic, several virulent diseases have br...</td>\n",
              "      <td>[pandem, virul, diseas, broken, simultan, worl...</td>\n",
              "    </tr>\n",
              "    <tr>\n",
              "      <th>1</th>\n",
              "      <td>822</td>\n",
              "      <td>Carcassonne</td>\n",
              "      <td>Carcassonne is a tile-placement game in which ...</td>\n",
              "      <td>[carcassonn, tileplac, player, draw, place, ti...</td>\n",
              "    </tr>\n",
              "    <tr>\n",
              "      <th>2</th>\n",
              "      <td>13</td>\n",
              "      <td>Catan</td>\n",
              "      <td>In CATAN (formerly The Settlers of Catan), pla...</td>\n",
              "      <td>[catan, settler, catan, player, tri, domin, fo...</td>\n",
              "    </tr>\n",
              "    <tr>\n",
              "      <th>3</th>\n",
              "      <td>68448</td>\n",
              "      <td>7 Wonders</td>\n",
              "      <td>You are the leader of one of the 7 great citie...</td>\n",
              "      <td>[leader, 7, great, citi, ancient, world, gathe...</td>\n",
              "    </tr>\n",
              "    <tr>\n",
              "      <th>4</th>\n",
              "      <td>36218</td>\n",
              "      <td>Dominion</td>\n",
              "      <td>&amp;quot;You are a monarch, like your parents bef...</td>\n",
              "      <td>[monarch, like, parent, ruler, small, pleasant...</td>\n",
              "    </tr>\n",
              "    <tr>\n",
              "      <th>...</th>\n",
              "      <td>...</td>\n",
              "      <td>...</td>\n",
              "      <td>...</td>\n",
              "      <td>...</td>\n",
              "    </tr>\n",
              "    <tr>\n",
              "      <th>1014</th>\n",
              "      <td>165950</td>\n",
              "      <td>Beasty Bar</td>\n",
              "      <td>The animals are dressed up and ready to enter ...</td>\n",
              "      <td>[anim, dress, readi, enter, beasti, barquot, n...</td>\n",
              "    </tr>\n",
              "    <tr>\n",
              "      <th>1015</th>\n",
              "      <td>249</td>\n",
              "      <td>Lifeboats</td>\n",
              "      <td>Also known as 'Rette Sich Wer Kann' ('Each Man...</td>\n",
              "      <td>[known, rett, sich, wer, kann, man, time, refe...</td>\n",
              "    </tr>\n",
              "    <tr>\n",
              "      <th>1016</th>\n",
              "      <td>340</td>\n",
              "      <td>Frank's Zoo</td>\n",
              "      <td>This game is played in several hands. In each ...</td>\n",
              "      <td>[play, hand, hand, player, tri, rid, card, sco...</td>\n",
              "    </tr>\n",
              "    <tr>\n",
              "      <th>1017</th>\n",
              "      <td>144797</td>\n",
              "      <td>Argent: The Consortium</td>\n",
              "      <td>The time has come for the selection of a new C...</td>\n",
              "      <td>[time, come, select, new, chancellor, argent, ...</td>\n",
              "    </tr>\n",
              "    <tr>\n",
              "      <th>1018</th>\n",
              "      <td>129051</td>\n",
              "      <td>Le Havre: The Inland Port</td>\n",
              "      <td>Le Havre: The Inland Port is a two-player game...</td>\n",
              "      <td>[le, havr, inland, port, twoplay, player, comp...</td>\n",
              "    </tr>\n",
              "  </tbody>\n",
              "</table>\n",
              "<p>1000 rows × 4 columns</p>\n",
              "</div>\n",
              "      <button class=\"colab-df-convert\" onclick=\"convertToInteractive('df-d7a69ccf-7fa5-4bb3-8f27-6d7f02fcc3c3')\"\n",
              "              title=\"Convert this dataframe to an interactive table.\"\n",
              "              style=\"display:none;\">\n",
              "        \n",
              "  <svg xmlns=\"http://www.w3.org/2000/svg\" height=\"24px\"viewBox=\"0 0 24 24\"\n",
              "       width=\"24px\">\n",
              "    <path d=\"M0 0h24v24H0V0z\" fill=\"none\"/>\n",
              "    <path d=\"M18.56 5.44l.94 2.06.94-2.06 2.06-.94-2.06-.94-.94-2.06-.94 2.06-2.06.94zm-11 1L8.5 8.5l.94-2.06 2.06-.94-2.06-.94L8.5 2.5l-.94 2.06-2.06.94zm10 10l.94 2.06.94-2.06 2.06-.94-2.06-.94-.94-2.06-.94 2.06-2.06.94z\"/><path d=\"M17.41 7.96l-1.37-1.37c-.4-.4-.92-.59-1.43-.59-.52 0-1.04.2-1.43.59L10.3 9.45l-7.72 7.72c-.78.78-.78 2.05 0 2.83L4 21.41c.39.39.9.59 1.41.59.51 0 1.02-.2 1.41-.59l7.78-7.78 2.81-2.81c.8-.78.8-2.07 0-2.86zM5.41 20L4 18.59l7.72-7.72 1.47 1.35L5.41 20z\"/>\n",
              "  </svg>\n",
              "      </button>\n",
              "      \n",
              "  <style>\n",
              "    .colab-df-container {\n",
              "      display:flex;\n",
              "      flex-wrap:wrap;\n",
              "      gap: 12px;\n",
              "    }\n",
              "\n",
              "    .colab-df-convert {\n",
              "      background-color: #E8F0FE;\n",
              "      border: none;\n",
              "      border-radius: 50%;\n",
              "      cursor: pointer;\n",
              "      display: none;\n",
              "      fill: #1967D2;\n",
              "      height: 32px;\n",
              "      padding: 0 0 0 0;\n",
              "      width: 32px;\n",
              "    }\n",
              "\n",
              "    .colab-df-convert:hover {\n",
              "      background-color: #E2EBFA;\n",
              "      box-shadow: 0px 1px 2px rgba(60, 64, 67, 0.3), 0px 1px 3px 1px rgba(60, 64, 67, 0.15);\n",
              "      fill: #174EA6;\n",
              "    }\n",
              "\n",
              "    [theme=dark] .colab-df-convert {\n",
              "      background-color: #3B4455;\n",
              "      fill: #D2E3FC;\n",
              "    }\n",
              "\n",
              "    [theme=dark] .colab-df-convert:hover {\n",
              "      background-color: #434B5C;\n",
              "      box-shadow: 0px 1px 3px 1px rgba(0, 0, 0, 0.15);\n",
              "      filter: drop-shadow(0px 1px 2px rgba(0, 0, 0, 0.3));\n",
              "      fill: #FFFFFF;\n",
              "    }\n",
              "  </style>\n",
              "\n",
              "      <script>\n",
              "        const buttonEl =\n",
              "          document.querySelector('#df-d7a69ccf-7fa5-4bb3-8f27-6d7f02fcc3c3 button.colab-df-convert');\n",
              "        buttonEl.style.display =\n",
              "          google.colab.kernel.accessAllowed ? 'block' : 'none';\n",
              "\n",
              "        async function convertToInteractive(key) {\n",
              "          const element = document.querySelector('#df-d7a69ccf-7fa5-4bb3-8f27-6d7f02fcc3c3');\n",
              "          const dataTable =\n",
              "            await google.colab.kernel.invokeFunction('convertToInteractive',\n",
              "                                                     [key], {});\n",
              "          if (!dataTable) return;\n",
              "\n",
              "          const docLinkHtml = 'Like what you see? Visit the ' +\n",
              "            '<a target=\"_blank\" href=https://colab.research.google.com/notebooks/data_table.ipynb>data table notebook</a>'\n",
              "            + ' to learn more about interactive tables.';\n",
              "          element.innerHTML = '';\n",
              "          dataTable['output_type'] = 'display_data';\n",
              "          await google.colab.output.renderOutput(dataTable, element);\n",
              "          const docLink = document.createElement('div');\n",
              "          docLink.innerHTML = docLinkHtml;\n",
              "          element.appendChild(docLink);\n",
              "        }\n",
              "      </script>\n",
              "    </div>\n",
              "  </div>\n",
              "  "
            ]
          },
          "metadata": {},
          "execution_count": 81
        }
      ]
    },
    {
      "cell_type": "markdown",
      "source": [
        "####2-6. 토큰 시각화(SpaCy)"
      ],
      "metadata": {
        "id": "VY3PRxhRBmrH"
      }
    },
    {
      "cell_type": "code",
      "source": [
        "!pip install squarify"
      ],
      "metadata": {
        "colab": {
          "base_uri": "https://localhost:8080/"
        },
        "id": "LmJwVpsEhVyw",
        "outputId": "e36c223f-1368-4f44-f4fc-beceadd67265"
      },
      "execution_count": 82,
      "outputs": [
        {
          "output_type": "stream",
          "name": "stdout",
          "text": [
            "Looking in indexes: https://pypi.org/simple, https://us-python.pkg.dev/colab-wheels/public/simple/\n",
            "Requirement already satisfied: squarify in /usr/local/lib/python3.7/dist-packages (0.4.3)\n"
          ]
        }
      ]
    },
    {
      "cell_type": "code",
      "source": [
        "import spacy\n",
        "import squarify\n",
        "import matplotlib.pyplot as plt\n",
        "import seaborn as sns\n",
        "# nlp = spacy.load(\"en_core_web_sm\")\n",
        "\n",
        "wc = word_count(df_token['tokens'])\n",
        "wc_top20 = wc[wc['rank'] <= 30]\n",
        "\n",
        "squarify.plot(sizes=wc_top20['percent'], label=wc_top20['word'], alpha=0.6 )\n",
        "plt.axis('off')\n",
        "plt.show()"
      ],
      "metadata": {
        "colab": {
          "base_uri": "https://localhost:8080/",
          "height": 0
        },
        "id": "z0V8tBonazdk",
        "outputId": "e2ce60ff-6057-44d1-8722-0e5ad481d5c5"
      },
      "execution_count": 83,
      "outputs": [
        {
          "output_type": "display_data",
          "data": {
            "text/plain": [
              "<Figure size 432x288 with 1 Axes>"
            ],
            "image/png": "[encoded data removed]"
          },
          "metadata": {
            "needs_background": "light"
          }
        }
      ]
    },
    {
      "cell_type": "markdown",
      "source": [
        "####2-7. 통계적 트리밍(Trimming)"
      ],
      "metadata": {
        "id": "roWt3KhAi77x"
      }
    },
    {
      "cell_type": "code",
      "source": [
        "sns.lineplot(x='rank', y='cul_percent', data=wc);"
      ],
      "metadata": {
        "colab": {
          "base_uri": "https://localhost:8080/",
          "height": 0
        },
        "id": "-T6VV1WMin3v",
        "outputId": "d6690365-7351-4169-fa30-7bb84499659a"
      },
      "execution_count": 84,
      "outputs": [
        {
          "output_type": "display_data",
          "data": {
            "text/plain": [
              "<Figure size 432x288 with 1 Axes>"
            ],
            "image/png": "[encoded data removed]"
          },
          "metadata": {
            "needs_background": "light"
          }
        }
      ]
    },
    {
      "cell_type": "code",
      "source": [
        "wc.tail(10)"
      ],
      "metadata": {
        "colab": {
          "base_uri": "https://localhost:8080/",
          "height": 0
        },
        "id": "LQa-u7qojBtM",
        "outputId": "8c621036-49ac-4bd2-b702-f9cb639f5460"
      },
      "execution_count": 85,
      "outputs": [
        {
          "output_type": "execute_result",
          "data": {
            "text/plain": [
              "                             word  word_in_docs  count     rank   percent  \\\n",
              "13437                    sharks10             1      1  13441.0  0.000008   \n",
              "13439                  partners10             1      1  13442.0  0.000008   \n",
              "13438                  hedgehog10             1      1  13443.0  0.000008   \n",
              "13444                   indines10             1      1  13444.0  0.000008   \n",
              "13445  workerplacementenginebuild             1      1  13445.0  0.000008   \n",
              "13440                europeanstyl             1      1  13446.0  0.000008   \n",
              "13441               erratatypofaq             1      1  13447.0  0.000008   \n",
              "13447                  harbormast             1      1  13448.0  0.000008   \n",
              "13448                    predefin             1      1  13449.0  0.000008   \n",
              "13446                   laboralik             1      1  13450.0  0.000008   \n",
              "\n",
              "       cul_percent  word_in_docs_percent  \n",
              "13437     0.999927                 0.001  \n",
              "13439     0.999935                 0.001  \n",
              "13438     0.999943                 0.001  \n",
              "13444     0.999951                 0.001  \n",
              "13445     0.999960                 0.001  \n",
              "13440     0.999968                 0.001  \n",
              "13441     0.999976                 0.001  \n",
              "13447     0.999984                 0.001  \n",
              "13448     0.999992                 0.001  \n",
              "13446     1.000000                 0.001  "
            ],
            "text/html": [
              "\n",
              "  <div id=\"df-e377168e-426c-4928-9b1a-03560eceb555\">\n",
              "    <div class=\"colab-df-container\">\n",
              "      <div>\n",
              "<style scoped>\n",
              "    .dataframe tbody tr th:only-of-type {\n",
              "        vertical-align: middle;\n",
              "    }\n",
              "\n",
              "    .dataframe tbody tr th {\n",
              "        vertical-align: top;\n",
              "    }\n",
              "\n",
              "    .dataframe thead th {\n",
              "        text-align: right;\n",
              "    }\n",
              "</style>\n",
              "<table border=\"1\" class=\"dataframe\">\n",
              "  <thead>\n",
              "    <tr style=\"text-align: right;\">\n",
              "      <th></th>\n",
              "      <th>word</th>\n",
              "      <th>word_in_docs</th>\n",
              "      <th>count</th>\n",
              "      <th>rank</th>\n",
              "      <th>percent</th>\n",
              "      <th>cul_percent</th>\n",
              "      <th>word_in_docs_percent</th>\n",
              "    </tr>\n",
              "  </thead>\n",
              "  <tbody>\n",
              "    <tr>\n",
              "      <th>13437</th>\n",
              "      <td>sharks10</td>\n",
              "      <td>1</td>\n",
              "      <td>1</td>\n",
              "      <td>13441.0</td>\n",
              "      <td>0.000008</td>\n",
              "      <td>0.999927</td>\n",
              "      <td>0.001</td>\n",
              "    </tr>\n",
              "    <tr>\n",
              "      <th>13439</th>\n",
              "      <td>partners10</td>\n",
              "      <td>1</td>\n",
              "      <td>1</td>\n",
              "      <td>13442.0</td>\n",
              "      <td>0.000008</td>\n",
              "      <td>0.999935</td>\n",
              "      <td>0.001</td>\n",
              "    </tr>\n",
              "    <tr>\n",
              "      <th>13438</th>\n",
              "      <td>hedgehog10</td>\n",
              "      <td>1</td>\n",
              "      <td>1</td>\n",
              "      <td>13443.0</td>\n",
              "      <td>0.000008</td>\n",
              "      <td>0.999943</td>\n",
              "      <td>0.001</td>\n",
              "    </tr>\n",
              "    <tr>\n",
              "      <th>13444</th>\n",
              "      <td>indines10</td>\n",
              "      <td>1</td>\n",
              "      <td>1</td>\n",
              "      <td>13444.0</td>\n",
              "      <td>0.000008</td>\n",
              "      <td>0.999951</td>\n",
              "      <td>0.001</td>\n",
              "    </tr>\n",
              "    <tr>\n",
              "      <th>13445</th>\n",
              "      <td>workerplacementenginebuild</td>\n",
              "      <td>1</td>\n",
              "      <td>1</td>\n",
              "      <td>13445.0</td>\n",
              "      <td>0.000008</td>\n",
              "      <td>0.999960</td>\n",
              "      <td>0.001</td>\n",
              "    </tr>\n",
              "    <tr>\n",
              "      <th>13440</th>\n",
              "      <td>europeanstyl</td>\n",
              "      <td>1</td>\n",
              "      <td>1</td>\n",
              "      <td>13446.0</td>\n",
              "      <td>0.000008</td>\n",
              "      <td>0.999968</td>\n",
              "      <td>0.001</td>\n",
              "    </tr>\n",
              "    <tr>\n",
              "      <th>13441</th>\n",
              "      <td>erratatypofaq</td>\n",
              "      <td>1</td>\n",
              "      <td>1</td>\n",
              "      <td>13447.0</td>\n",
              "      <td>0.000008</td>\n",
              "      <td>0.999976</td>\n",
              "      <td>0.001</td>\n",
              "    </tr>\n",
              "    <tr>\n",
              "      <th>13447</th>\n",
              "      <td>harbormast</td>\n",
              "      <td>1</td>\n",
              "      <td>1</td>\n",
              "      <td>13448.0</td>\n",
              "      <td>0.000008</td>\n",
              "      <td>0.999984</td>\n",
              "      <td>0.001</td>\n",
              "    </tr>\n",
              "    <tr>\n",
              "      <th>13448</th>\n",
              "      <td>predefin</td>\n",
              "      <td>1</td>\n",
              "      <td>1</td>\n",
              "      <td>13449.0</td>\n",
              "      <td>0.000008</td>\n",
              "      <td>0.999992</td>\n",
              "      <td>0.001</td>\n",
              "    </tr>\n",
              "    <tr>\n",
              "      <th>13446</th>\n",
              "      <td>laboralik</td>\n",
              "      <td>1</td>\n",
              "      <td>1</td>\n",
              "      <td>13450.0</td>\n",
              "      <td>0.000008</td>\n",
              "      <td>1.000000</td>\n",
              "      <td>0.001</td>\n",
              "    </tr>\n",
              "  </tbody>\n",
              "</table>\n",
              "</div>\n",
              "      <button class=\"colab-df-convert\" onclick=\"convertToInteractive('df-e377168e-426c-4928-9b1a-03560eceb555')\"\n",
              "              title=\"Convert this dataframe to an interactive table.\"\n",
              "              style=\"display:none;\">\n",
              "        \n",
              "  <svg xmlns=\"http://www.w3.org/2000/svg\" height=\"24px\"viewBox=\"0 0 24 24\"\n",
              "       width=\"24px\">\n",
              "    <path d=\"M0 0h24v24H0V0z\" fill=\"none\"/>\n",
              "    <path d=\"M18.56 5.44l.94 2.06.94-2.06 2.06-.94-2.06-.94-.94-2.06-.94 2.06-2.06.94zm-11 1L8.5 8.5l.94-2.06 2.06-.94-2.06-.94L8.5 2.5l-.94 2.06-2.06.94zm10 10l.94 2.06.94-2.06 2.06-.94-2.06-.94-.94-2.06-.94 2.06-2.06.94z\"/><path d=\"M17.41 7.96l-1.37-1.37c-.4-.4-.92-.59-1.43-.59-.52 0-1.04.2-1.43.59L10.3 9.45l-7.72 7.72c-.78.78-.78 2.05 0 2.83L4 21.41c.39.39.9.59 1.41.59.51 0 1.02-.2 1.41-.59l7.78-7.78 2.81-2.81c.8-.78.8-2.07 0-2.86zM5.41 20L4 18.59l7.72-7.72 1.47 1.35L5.41 20z\"/>\n",
              "  </svg>\n",
              "      </button>\n",
              "      \n",
              "  <style>\n",
              "    .colab-df-container {\n",
              "      display:flex;\n",
              "      flex-wrap:wrap;\n",
              "      gap: 12px;\n",
              "    }\n",
              "\n",
              "    .colab-df-convert {\n",
              "      background-color: #E8F0FE;\n",
              "      border: none;\n",
              "      border-radius: 50%;\n",
              "      cursor: pointer;\n",
              "      display: none;\n",
              "      fill: #1967D2;\n",
              "      height: 32px;\n",
              "      padding: 0 0 0 0;\n",
              "      width: 32px;\n",
              "    }\n",
              "\n",
              "    .colab-df-convert:hover {\n",
              "      background-color: #E2EBFA;\n",
              "      box-shadow: 0px 1px 2px rgba(60, 64, 67, 0.3), 0px 1px 3px 1px rgba(60, 64, 67, 0.15);\n",
              "      fill: #174EA6;\n",
              "    }\n",
              "\n",
              "    [theme=dark] .colab-df-convert {\n",
              "      background-color: #3B4455;\n",
              "      fill: #D2E3FC;\n",
              "    }\n",
              "\n",
              "    [theme=dark] .colab-df-convert:hover {\n",
              "      background-color: #434B5C;\n",
              "      box-shadow: 0px 1px 3px 1px rgba(0, 0, 0, 0.15);\n",
              "      filter: drop-shadow(0px 1px 2px rgba(0, 0, 0, 0.3));\n",
              "      fill: #FFFFFF;\n",
              "    }\n",
              "  </style>\n",
              "\n",
              "      <script>\n",
              "        const buttonEl =\n",
              "          document.querySelector('#df-e377168e-426c-4928-9b1a-03560eceb555 button.colab-df-convert');\n",
              "        buttonEl.style.display =\n",
              "          google.colab.kernel.accessAllowed ? 'block' : 'none';\n",
              "\n",
              "        async function convertToInteractive(key) {\n",
              "          const element = document.querySelector('#df-e377168e-426c-4928-9b1a-03560eceb555');\n",
              "          const dataTable =\n",
              "            await google.colab.kernel.invokeFunction('convertToInteractive',\n",
              "                                                     [key], {});\n",
              "          if (!dataTable) return;\n",
              "\n",
              "          const docLinkHtml = 'Like what you see? Visit the ' +\n",
              "            '<a target=\"_blank\" href=https://colab.research.google.com/notebooks/data_table.ipynb>data table notebook</a>'\n",
              "            + ' to learn more about interactive tables.';\n",
              "          element.innerHTML = '';\n",
              "          dataTable['output_type'] = 'display_data';\n",
              "          await google.colab.output.renderOutput(dataTable, element);\n",
              "          const docLink = document.createElement('div');\n",
              "          docLink.innerHTML = docLinkHtml;\n",
              "          element.appendChild(docLink);\n",
              "        }\n",
              "      </script>\n",
              "    </div>\n",
              "  </div>\n",
              "  "
            ]
          },
          "metadata": {},
          "execution_count": 85
        }
      ]
    },
    {
      "cell_type": "code",
      "source": [
        "wc['word_in_docs_percent'].describe()"
      ],
      "metadata": {
        "colab": {
          "base_uri": "https://localhost:8080/"
        },
        "id": "RjxR4cWVjF4Q",
        "outputId": "4d6865a9-cf10-4131-b667-b584fbac896a"
      },
      "execution_count": 86,
      "outputs": [
        {
          "output_type": "execute_result",
          "data": {
            "text/plain": [
              "count    13450.000000\n",
              "mean         0.006266\n",
              "std          0.022075\n",
              "min          0.001000\n",
              "25%          0.001000\n",
              "50%          0.001000\n",
              "75%          0.003000\n",
              "max          0.901000\n",
              "Name: word_in_docs_percent, dtype: float64"
            ]
          },
          "metadata": {},
          "execution_count": 86
        }
      ]
    },
    {
      "cell_type": "code",
      "source": [
        "wc['word_in_docs_percent']"
      ],
      "metadata": {
        "colab": {
          "base_uri": "https://localhost:8080/"
        },
        "id": "0rMw9PGujJmB",
        "outputId": "4455bcea-c08c-4d0f-ba34-cbcf91e4e56e"
      },
      "execution_count": 87,
      "outputs": [
        {
          "output_type": "execute_result",
          "data": {
            "text/plain": [
              "17       0.901\n",
              "78       0.557\n",
              "122      0.531\n",
              "10       0.344\n",
              "117      0.397\n",
              "         ...  \n",
              "13440    0.001\n",
              "13441    0.001\n",
              "13447    0.001\n",
              "13448    0.001\n",
              "13446    0.001\n",
              "Name: word_in_docs_percent, Length: 13450, dtype: float64"
            ]
          },
          "metadata": {},
          "execution_count": 87
        }
      ]
    },
    {
      "cell_type": "code",
      "source": [
        "# 문서에 나타나는 빈도\n",
        "sns.displot(wc['word_in_docs_percent'],kind='kde')"
      ],
      "metadata": {
        "colab": {
          "base_uri": "https://localhost:8080/",
          "height": 0
        },
        "id": "zlOabATBjPmM",
        "outputId": "9970dba1-b15e-47c5-d1da-1a1cb2dcd26f"
      },
      "execution_count": 88,
      "outputs": [
        {
          "output_type": "execute_result",
          "data": {
            "text/plain": [
              "<seaborn.axisgrid.FacetGrid at 0x7f27f39a5190>"
            ]
          },
          "metadata": {},
          "execution_count": 88
        },
        {
          "output_type": "display_data",
          "data": {
            "text/plain": [
              "<Figure size 360x360 with 1 Axes>"
            ],
            "image/png": "[encoded data removed]"
          },
          "metadata": {
            "needs_background": "light"
          }
        }
      ]
    },
    {
      "cell_type": "code",
      "source": [
        "# 최소한 1% 이상 문서에 나타나는 단어들만 선택합니다.\n",
        "\n",
        "wc = wc[wc['word_in_docs_percent'] >= 0.01]\n",
        "\n",
        "sns.displot(wc['word_in_docs_percent'], kind='kde');"
      ],
      "metadata": {
        "colab": {
          "base_uri": "https://localhost:8080/",
          "height": 0
        },
        "id": "BSCDZrGmjRKw",
        "outputId": "e0739f3b-a3db-4e75-bbb9-86817a06b6a3"
      },
      "execution_count": 89,
      "outputs": [
        {
          "output_type": "display_data",
          "data": {
            "text/plain": [
              "<Figure size 360x360 with 1 Axes>"
            ],
            "image/png": "[encoded data removed]"
          },
          "metadata": {
            "needs_background": "light"
          }
        }
      ]
    },
    {
      "cell_type": "code",
      "source": [
        "wc"
      ],
      "metadata": {
        "colab": {
          "base_uri": "https://localhost:8080/",
          "height": 0
        },
        "id": "YOBV6BprjV6m",
        "outputId": "f125273d-8706-4134-a0cf-a7369fd128fa"
      },
      "execution_count": 90,
      "outputs": [
        {
          "output_type": "execute_result",
          "data": {
            "text/plain": [
              "          word  word_in_docs  count    rank   percent  cul_percent  \\\n",
              "17      player           901   4088     1.0  0.033049     0.033049   \n",
              "78        card           557   2843     2.0  0.022984     0.056033   \n",
              "122       play           531   1163     3.0  0.009402     0.065435   \n",
              "10       build           344    897     4.0  0.007252     0.072686   \n",
              "117      point           397    852     5.0  0.006888     0.079574   \n",
              "...        ...           ...    ...     ...       ...          ...   \n",
              "4444  northern            10     10  1903.0  0.000081     0.798660   \n",
              "4432  signific            10     10  1904.0  0.000081     0.798740   \n",
              "4821      lucr            10     10  1907.0  0.000081     0.798983   \n",
              "5037    undead            10     10  1909.0  0.000081     0.799145   \n",
              "5608  prestigi            10     10  1917.0  0.000081     0.799791   \n",
              "\n",
              "      word_in_docs_percent  \n",
              "17                   0.901  \n",
              "78                   0.557  \n",
              "122                  0.531  \n",
              "10                   0.344  \n",
              "117                  0.397  \n",
              "...                    ...  \n",
              "4444                 0.010  \n",
              "4432                 0.010  \n",
              "4821                 0.010  \n",
              "5037                 0.010  \n",
              "5608                 0.010  \n",
              "\n",
              "[1547 rows x 7 columns]"
            ],
            "text/html": [
              "\n",
              "  <div id=\"df-a930801b-6289-4059-80cf-4ed0a00263b0\">\n",
              "    <div class=\"colab-df-container\">\n",
              "      <div>\n",
              "<style scoped>\n",
              "    .dataframe tbody tr th:only-of-type {\n",
              "        vertical-align: middle;\n",
              "    }\n",
              "\n",
              "    .dataframe tbody tr th {\n",
              "        vertical-align: top;\n",
              "    }\n",
              "\n",
              "    .dataframe thead th {\n",
              "        text-align: right;\n",
              "    }\n",
              "</style>\n",
              "<table border=\"1\" class=\"dataframe\">\n",
              "  <thead>\n",
              "    <tr style=\"text-align: right;\">\n",
              "      <th></th>\n",
              "      <th>word</th>\n",
              "      <th>word_in_docs</th>\n",
              "      <th>count</th>\n",
              "      <th>rank</th>\n",
              "      <th>percent</th>\n",
              "      <th>cul_percent</th>\n",
              "      <th>word_in_docs_percent</th>\n",
              "    </tr>\n",
              "  </thead>\n",
              "  <tbody>\n",
              "    <tr>\n",
              "      <th>17</th>\n",
              "      <td>player</td>\n",
              "      <td>901</td>\n",
              "      <td>4088</td>\n",
              "      <td>1.0</td>\n",
              "      <td>0.033049</td>\n",
              "      <td>0.033049</td>\n",
              "      <td>0.901</td>\n",
              "    </tr>\n",
              "    <tr>\n",
              "      <th>78</th>\n",
              "      <td>card</td>\n",
              "      <td>557</td>\n",
              "      <td>2843</td>\n",
              "      <td>2.0</td>\n",
              "      <td>0.022984</td>\n",
              "      <td>0.056033</td>\n",
              "      <td>0.557</td>\n",
              "    </tr>\n",
              "    <tr>\n",
              "      <th>122</th>\n",
              "      <td>play</td>\n",
              "      <td>531</td>\n",
              "      <td>1163</td>\n",
              "      <td>3.0</td>\n",
              "      <td>0.009402</td>\n",
              "      <td>0.065435</td>\n",
              "      <td>0.531</td>\n",
              "    </tr>\n",
              "    <tr>\n",
              "      <th>10</th>\n",
              "      <td>build</td>\n",
              "      <td>344</td>\n",
              "      <td>897</td>\n",
              "      <td>4.0</td>\n",
              "      <td>0.007252</td>\n",
              "      <td>0.072686</td>\n",
              "      <td>0.344</td>\n",
              "    </tr>\n",
              "    <tr>\n",
              "      <th>117</th>\n",
              "      <td>point</td>\n",
              "      <td>397</td>\n",
              "      <td>852</td>\n",
              "      <td>5.0</td>\n",
              "      <td>0.006888</td>\n",
              "      <td>0.079574</td>\n",
              "      <td>0.397</td>\n",
              "    </tr>\n",
              "    <tr>\n",
              "      <th>...</th>\n",
              "      <td>...</td>\n",
              "      <td>...</td>\n",
              "      <td>...</td>\n",
              "      <td>...</td>\n",
              "      <td>...</td>\n",
              "      <td>...</td>\n",
              "      <td>...</td>\n",
              "    </tr>\n",
              "    <tr>\n",
              "      <th>4444</th>\n",
              "      <td>northern</td>\n",
              "      <td>10</td>\n",
              "      <td>10</td>\n",
              "      <td>1903.0</td>\n",
              "      <td>0.000081</td>\n",
              "      <td>0.798660</td>\n",
              "      <td>0.010</td>\n",
              "    </tr>\n",
              "    <tr>\n",
              "      <th>4432</th>\n",
              "      <td>signific</td>\n",
              "      <td>10</td>\n",
              "      <td>10</td>\n",
              "      <td>1904.0</td>\n",
              "      <td>0.000081</td>\n",
              "      <td>0.798740</td>\n",
              "      <td>0.010</td>\n",
              "    </tr>\n",
              "    <tr>\n",
              "      <th>4821</th>\n",
              "      <td>lucr</td>\n",
              "      <td>10</td>\n",
              "      <td>10</td>\n",
              "      <td>1907.0</td>\n",
              "      <td>0.000081</td>\n",
              "      <td>0.798983</td>\n",
              "      <td>0.010</td>\n",
              "    </tr>\n",
              "    <tr>\n",
              "      <th>5037</th>\n",
              "      <td>undead</td>\n",
              "      <td>10</td>\n",
              "      <td>10</td>\n",
              "      <td>1909.0</td>\n",
              "      <td>0.000081</td>\n",
              "      <td>0.799145</td>\n",
              "      <td>0.010</td>\n",
              "    </tr>\n",
              "    <tr>\n",
              "      <th>5608</th>\n",
              "      <td>prestigi</td>\n",
              "      <td>10</td>\n",
              "      <td>10</td>\n",
              "      <td>1917.0</td>\n",
              "      <td>0.000081</td>\n",
              "      <td>0.799791</td>\n",
              "      <td>0.010</td>\n",
              "    </tr>\n",
              "  </tbody>\n",
              "</table>\n",
              "<p>1547 rows × 7 columns</p>\n",
              "</div>\n",
              "      <button class=\"colab-df-convert\" onclick=\"convertToInteractive('df-a930801b-6289-4059-80cf-4ed0a00263b0')\"\n",
              "              title=\"Convert this dataframe to an interactive table.\"\n",
              "              style=\"display:none;\">\n",
              "        \n",
              "  <svg xmlns=\"http://www.w3.org/2000/svg\" height=\"24px\"viewBox=\"0 0 24 24\"\n",
              "       width=\"24px\">\n",
              "    <path d=\"M0 0h24v24H0V0z\" fill=\"none\"/>\n",
              "    <path d=\"M18.56 5.44l.94 2.06.94-2.06 2.06-.94-2.06-.94-.94-2.06-.94 2.06-2.06.94zm-11 1L8.5 8.5l.94-2.06 2.06-.94-2.06-.94L8.5 2.5l-.94 2.06-2.06.94zm10 10l.94 2.06.94-2.06 2.06-.94-2.06-.94-.94-2.06-.94 2.06-2.06.94z\"/><path d=\"M17.41 7.96l-1.37-1.37c-.4-.4-.92-.59-1.43-.59-.52 0-1.04.2-1.43.59L10.3 9.45l-7.72 7.72c-.78.78-.78 2.05 0 2.83L4 21.41c.39.39.9.59 1.41.59.51 0 1.02-.2 1.41-.59l7.78-7.78 2.81-2.81c.8-.78.8-2.07 0-2.86zM5.41 20L4 18.59l7.72-7.72 1.47 1.35L5.41 20z\"/>\n",
              "  </svg>\n",
              "      </button>\n",
              "      \n",
              "  <style>\n",
              "    .colab-df-container {\n",
              "      display:flex;\n",
              "      flex-wrap:wrap;\n",
              "      gap: 12px;\n",
              "    }\n",
              "\n",
              "    .colab-df-convert {\n",
              "      background-color: #E8F0FE;\n",
              "      border: none;\n",
              "      border-radius: 50%;\n",
              "      cursor: pointer;\n",
              "      display: none;\n",
              "      fill: #1967D2;\n",
              "      height: 32px;\n",
              "      padding: 0 0 0 0;\n",
              "      width: 32px;\n",
              "    }\n",
              "\n",
              "    .colab-df-convert:hover {\n",
              "      background-color: #E2EBFA;\n",
              "      box-shadow: 0px 1px 2px rgba(60, 64, 67, 0.3), 0px 1px 3px 1px rgba(60, 64, 67, 0.15);\n",
              "      fill: #174EA6;\n",
              "    }\n",
              "\n",
              "    [theme=dark] .colab-df-convert {\n",
              "      background-color: #3B4455;\n",
              "      fill: #D2E3FC;\n",
              "    }\n",
              "\n",
              "    [theme=dark] .colab-df-convert:hover {\n",
              "      background-color: #434B5C;\n",
              "      box-shadow: 0px 1px 3px 1px rgba(0, 0, 0, 0.15);\n",
              "      filter: drop-shadow(0px 1px 2px rgba(0, 0, 0, 0.3));\n",
              "      fill: #FFFFFF;\n",
              "    }\n",
              "  </style>\n",
              "\n",
              "      <script>\n",
              "        const buttonEl =\n",
              "          document.querySelector('#df-a930801b-6289-4059-80cf-4ed0a00263b0 button.colab-df-convert');\n",
              "        buttonEl.style.display =\n",
              "          google.colab.kernel.accessAllowed ? 'block' : 'none';\n",
              "\n",
              "        async function convertToInteractive(key) {\n",
              "          const element = document.querySelector('#df-a930801b-6289-4059-80cf-4ed0a00263b0');\n",
              "          const dataTable =\n",
              "            await google.colab.kernel.invokeFunction('convertToInteractive',\n",
              "                                                     [key], {});\n",
              "          if (!dataTable) return;\n",
              "\n",
              "          const docLinkHtml = 'Like what you see? Visit the ' +\n",
              "            '<a target=\"_blank\" href=https://colab.research.google.com/notebooks/data_table.ipynb>data table notebook</a>'\n",
              "            + ' to learn more about interactive tables.';\n",
              "          element.innerHTML = '';\n",
              "          dataTable['output_type'] = 'display_data';\n",
              "          await google.colab.output.renderOutput(dataTable, element);\n",
              "          const docLink = document.createElement('div');\n",
              "          docLink.innerHTML = docLinkHtml;\n",
              "          element.appendChild(docLink);\n",
              "        }\n",
              "      </script>\n",
              "    </div>\n",
              "  </div>\n",
              "  "
            ]
          },
          "metadata": {},
          "execution_count": 90
        }
      ]
    },
    {
      "cell_type": "markdown",
      "source": [
        "##3. Embedding"
      ],
      "metadata": {
        "id": "SyGRKoDBkSl6"
      }
    },
    {
      "cell_type": "markdown",
      "source": [
        "####3-1. One-hot Encoding"
      ],
      "metadata": {
        "id": "Uhor02--kcYl"
      }
    },
    {
      "cell_type": "code",
      "source": [
        "import numpy as np\n",
        "import tensorflow as tf\n",
        "\n",
        "from tensorflow.keras.preprocessing.sequence import pad_sequences\n",
        "from tensorflow.keras.models import Sequential\n",
        "from tensorflow.keras.layers import Dense, Embedding, GlobalAveragePooling1D\n",
        "from tensorflow.keras.preprocessing.text import Tokenizer\n",
        "from tensorflow.keras.datasets import imdb"
      ],
      "metadata": {
        "id": "cbR8kUKZ91Hp"
      },
      "execution_count": 91,
      "outputs": []
    },
    {
      "cell_type": "code",
      "source": [
        "df_token.head(3)"
      ],
      "metadata": {
        "colab": {
          "base_uri": "https://localhost:8080/",
          "height": 143
        },
        "id": "D7SU_LEnyZfZ",
        "outputId": "abb9ced6-baae-41c0-c832-43cc6749f78e"
      },
      "execution_count": 92,
      "outputs": [
        {
          "output_type": "execute_result",
          "data": {
            "text/plain": [
              "      id      primary                                        description  \\\n",
              "0  30549     Pandemic  In Pandemic, several virulent diseases have br...   \n",
              "1    822  Carcassonne  Carcassonne is a tile-placement game in which ...   \n",
              "2     13        Catan  In CATAN (formerly The Settlers of Catan), pla...   \n",
              "\n",
              "                                              tokens  \n",
              "0  [pandem, virul, diseas, broken, simultan, worl...  \n",
              "1  [carcassonn, tileplac, player, draw, place, ti...  \n",
              "2  [catan, settler, catan, player, tri, domin, fo...  "
            ],
            "text/html": [
              "\n",
              "  <div id=\"df-f7b69975-9ac2-48b2-97ff-007a69bec65d\">\n",
              "    <div class=\"colab-df-container\">\n",
              "      <div>\n",
              "<style scoped>\n",
              "    .dataframe tbody tr th:only-of-type {\n",
              "        vertical-align: middle;\n",
              "    }\n",
              "\n",
              "    .dataframe tbody tr th {\n",
              "        vertical-align: top;\n",
              "    }\n",
              "\n",
              "    .dataframe thead th {\n",
              "        text-align: right;\n",
              "    }\n",
              "</style>\n",
              "<table border=\"1\" class=\"dataframe\">\n",
              "  <thead>\n",
              "    <tr style=\"text-align: right;\">\n",
              "      <th></th>\n",
              "      <th>id</th>\n",
              "      <th>primary</th>\n",
              "      <th>description</th>\n",
              "      <th>tokens</th>\n",
              "    </tr>\n",
              "  </thead>\n",
              "  <tbody>\n",
              "    <tr>\n",
              "      <th>0</th>\n",
              "      <td>30549</td>\n",
              "      <td>Pandemic</td>\n",
              "      <td>In Pandemic, several virulent diseases have br...</td>\n",
              "      <td>[pandem, virul, diseas, broken, simultan, worl...</td>\n",
              "    </tr>\n",
              "    <tr>\n",
              "      <th>1</th>\n",
              "      <td>822</td>\n",
              "      <td>Carcassonne</td>\n",
              "      <td>Carcassonne is a tile-placement game in which ...</td>\n",
              "      <td>[carcassonn, tileplac, player, draw, place, ti...</td>\n",
              "    </tr>\n",
              "    <tr>\n",
              "      <th>2</th>\n",
              "      <td>13</td>\n",
              "      <td>Catan</td>\n",
              "      <td>In CATAN (formerly The Settlers of Catan), pla...</td>\n",
              "      <td>[catan, settler, catan, player, tri, domin, fo...</td>\n",
              "    </tr>\n",
              "  </tbody>\n",
              "</table>\n",
              "</div>\n",
              "      <button class=\"colab-df-convert\" onclick=\"convertToInteractive('df-f7b69975-9ac2-48b2-97ff-007a69bec65d')\"\n",
              "              title=\"Convert this dataframe to an interactive table.\"\n",
              "              style=\"display:none;\">\n",
              "        \n",
              "  <svg xmlns=\"http://www.w3.org/2000/svg\" height=\"24px\"viewBox=\"0 0 24 24\"\n",
              "       width=\"24px\">\n",
              "    <path d=\"M0 0h24v24H0V0z\" fill=\"none\"/>\n",
              "    <path d=\"M18.56 5.44l.94 2.06.94-2.06 2.06-.94-2.06-.94-.94-2.06-.94 2.06-2.06.94zm-11 1L8.5 8.5l.94-2.06 2.06-.94-2.06-.94L8.5 2.5l-.94 2.06-2.06.94zm10 10l.94 2.06.94-2.06 2.06-.94-2.06-.94-.94-2.06-.94 2.06-2.06.94z\"/><path d=\"M17.41 7.96l-1.37-1.37c-.4-.4-.92-.59-1.43-.59-.52 0-1.04.2-1.43.59L10.3 9.45l-7.72 7.72c-.78.78-.78 2.05 0 2.83L4 21.41c.39.39.9.59 1.41.59.51 0 1.02-.2 1.41-.59l7.78-7.78 2.81-2.81c.8-.78.8-2.07 0-2.86zM5.41 20L4 18.59l7.72-7.72 1.47 1.35L5.41 20z\"/>\n",
              "  </svg>\n",
              "      </button>\n",
              "      \n",
              "  <style>\n",
              "    .colab-df-container {\n",
              "      display:flex;\n",
              "      flex-wrap:wrap;\n",
              "      gap: 12px;\n",
              "    }\n",
              "\n",
              "    .colab-df-convert {\n",
              "      background-color: #E8F0FE;\n",
              "      border: none;\n",
              "      border-radius: 50%;\n",
              "      cursor: pointer;\n",
              "      display: none;\n",
              "      fill: #1967D2;\n",
              "      height: 32px;\n",
              "      padding: 0 0 0 0;\n",
              "      width: 32px;\n",
              "    }\n",
              "\n",
              "    .colab-df-convert:hover {\n",
              "      background-color: #E2EBFA;\n",
              "      box-shadow: 0px 1px 2px rgba(60, 64, 67, 0.3), 0px 1px 3px 1px rgba(60, 64, 67, 0.15);\n",
              "      fill: #174EA6;\n",
              "    }\n",
              "\n",
              "    [theme=dark] .colab-df-convert {\n",
              "      background-color: #3B4455;\n",
              "      fill: #D2E3FC;\n",
              "    }\n",
              "\n",
              "    [theme=dark] .colab-df-convert:hover {\n",
              "      background-color: #434B5C;\n",
              "      box-shadow: 0px 1px 3px 1px rgba(0, 0, 0, 0.15);\n",
              "      filter: drop-shadow(0px 1px 2px rgba(0, 0, 0, 0.3));\n",
              "      fill: #FFFFFF;\n",
              "    }\n",
              "  </style>\n",
              "\n",
              "      <script>\n",
              "        const buttonEl =\n",
              "          document.querySelector('#df-f7b69975-9ac2-48b2-97ff-007a69bec65d button.colab-df-convert');\n",
              "        buttonEl.style.display =\n",
              "          google.colab.kernel.accessAllowed ? 'block' : 'none';\n",
              "\n",
              "        async function convertToInteractive(key) {\n",
              "          const element = document.querySelector('#df-f7b69975-9ac2-48b2-97ff-007a69bec65d');\n",
              "          const dataTable =\n",
              "            await google.colab.kernel.invokeFunction('convertToInteractive',\n",
              "                                                     [key], {});\n",
              "          if (!dataTable) return;\n",
              "\n",
              "          const docLinkHtml = 'Like what you see? Visit the ' +\n",
              "            '<a target=\"_blank\" href=https://colab.research.google.com/notebooks/data_table.ipynb>data table notebook</a>'\n",
              "            + ' to learn more about interactive tables.';\n",
              "          element.innerHTML = '';\n",
              "          dataTable['output_type'] = 'display_data';\n",
              "          await google.colab.output.renderOutput(dataTable, element);\n",
              "          const docLink = document.createElement('div');\n",
              "          docLink.innerHTML = docLinkHtml;\n",
              "          element.appendChild(docLink);\n",
              "        }\n",
              "      </script>\n",
              "    </div>\n",
              "  </div>\n",
              "  "
            ]
          },
          "metadata": {},
          "execution_count": 92
        }
      ]
    },
    {
      "cell_type": "code",
      "source": [
        "X = df_token[\"tokens\"]\n",
        "y = df_token[\"id\"]"
      ],
      "metadata": {
        "id": "cxmST1l9t8Hb"
      },
      "execution_count": 93,
      "outputs": []
    },
    {
      "cell_type": "code",
      "source": [
        "tokenizer = Tokenizer(num_words=20000)\n",
        "tokenizer.fit_on_texts(X)\n",
        "X_encoded = tokenizer.texts_to_sequences(X)"
      ],
      "metadata": {
        "id": "pssKKqogt8NK"
      },
      "execution_count": 94,
      "outputs": []
    },
    {
      "cell_type": "code",
      "source": [
        "#get vocab_size\n",
        "vocab_size = len(tokenizer.word_index) + 1\n",
        "print(vocab_size)\n",
        "\n",
        "#get max_len\n",
        "np.mean([len(sent) for sent in X_encoded], dtype=int)"
      ],
      "metadata": {
        "colab": {
          "base_uri": "https://localhost:8080/"
        },
        "id": "JBp5RA2HzRE-",
        "outputId": "6535d39e-4c8b-4118-e223-6f89da0f6360"
      },
      "execution_count": 95,
      "outputs": [
        {
          "output_type": "stream",
          "name": "stdout",
          "text": [
            "13451\n"
          ]
        },
        {
          "output_type": "execute_result",
          "data": {
            "text/plain": [
              "123"
            ]
          },
          "metadata": {},
          "execution_count": 95
        }
      ]
    },
    {
      "cell_type": "code",
      "source": [
        "#transform using pad_sequences\n",
        "maxlen = 250 # bigger than mean of len of X\n",
        "X_pad = pad_sequences(X_encoded, maxlen=maxlen)"
      ],
      "metadata": {
        "id": "GdjeNilSzuPv"
      },
      "execution_count": 96,
      "outputs": []
    },
    {
      "cell_type": "markdown",
      "source": [
        "####3-2. Word2Vec"
      ],
      "metadata": {
        "id": "H799thTW1yqs"
      }
    },
    {
      "cell_type": "code",
      "source": [
        "!pip install gensim --upgrade"
      ],
      "metadata": {
        "colab": {
          "base_uri": "https://localhost:8080/"
        },
        "id": "tgYh1z962kEp",
        "outputId": "fe90786b-55fd-4b0b-f485-c2b1a7a843d9"
      },
      "execution_count": 97,
      "outputs": [
        {
          "output_type": "stream",
          "name": "stdout",
          "text": [
            "Looking in indexes: https://pypi.org/simple, https://us-python.pkg.dev/colab-wheels/public/simple/\n",
            "Requirement already satisfied: gensim in /usr/local/lib/python3.7/dist-packages (4.2.0)\n",
            "Requirement already satisfied: scipy>=0.18.1 in /usr/local/lib/python3.7/dist-packages (from gensim) (1.7.3)\n",
            "Requirement already satisfied: smart-open>=1.8.1 in /usr/local/lib/python3.7/dist-packages (from gensim) (5.2.1)\n",
            "Requirement already satisfied: numpy>=1.17.0 in /usr/local/lib/python3.7/dist-packages (from gensim) (1.21.6)\n"
          ]
        }
      ]
    },
    {
      "cell_type": "code",
      "source": [
        "import gensim\n",
        "\n",
        "gensim.__version__"
      ],
      "metadata": {
        "colab": {
          "base_uri": "https://localhost:8080/",
          "height": 36
        },
        "id": "o7FaVH6R2o80",
        "outputId": "0877eed8-a1e9-48f6-ea0a-744b42211bcc"
      },
      "execution_count": 98,
      "outputs": [
        {
          "output_type": "execute_result",
          "data": {
            "text/plain": [
              "'3.6.0'"
            ],
            "application/vnd.google.colaboratory.intrinsic+json": {
              "type": "string"
            }
          },
          "metadata": {},
          "execution_count": 98
        }
      ]
    },
    {
      "cell_type": "code",
      "source": [
        "# import gensim.downloader as api\n",
        "\n",
        "# wv = api.load('word2vec-google-news-300')"
      ],
      "metadata": {
        "id": "KCxBmHX92ok4"
      },
      "execution_count": 99,
      "outputs": []
    },
    {
      "cell_type": "code",
      "source": [
        "#get embedding_matrix using by Word2Vec\n",
        "import numpy as np\n",
        "embedding_matrix = np.zeros((vocab_size, 300))\n",
        "def get_vector(word):\n",
        "    if word in wv:\n",
        "        return wv[word]\n",
        "    else:\n",
        "        return None\n",
        "\n",
        "for word, i in tokenizer.word_index.items():\n",
        "    temp = get_vector(word)\n",
        "    if temp is not None:\n",
        "        embedding_matrix[i] = temp"
      ],
      "metadata": {
        "id": "-zmW5xWyzROu"
      },
      "execution_count": 100,
      "outputs": []
    },
    {
      "cell_type": "code",
      "source": [
        "oov = []\n",
        "for word, _ in tokenizer.word_index.items():\n",
        "    if word not in wv:\n",
        "        oov.append(word)\n",
        "print(len(oov))\n",
        "print(len(tokenizer.word_index.items()))\n",
        "print(oov[0])"
      ],
      "metadata": {
        "colab": {
          "base_uri": "https://localhost:8080/"
        },
        "id": "A7qihCAIkuu9",
        "outputId": "aac335a1-fd7d-4b06-b6c0-92a3322004fd"
      },
      "execution_count": 101,
      "outputs": [
        {
          "output_type": "stream",
          "name": "stdout",
          "text": [
            "7822\n",
            "13450\n",
            "'victori'\n"
          ]
        }
      ]
    },
    {
      "cell_type": "markdown",
      "source": [
        "####3-3. fastText"
      ],
      "metadata": {
        "id": "iBPozusm6_Nk"
      }
    },
    {
      "cell_type": "code",
      "source": [
        "from pprint import pprint as print\n",
        "from gensim.models.fasttext import FastText\n",
        "from gensim.test.utils import datapath\n",
        "\n",
        "# Set file names for train and test data\n",
        "corpus_file = datapath('lee_background.cor')\n",
        "\n",
        "model = FastText(vector_size=300)\n",
        "\n",
        "# build the vocabulary\n",
        "model.build_vocab(corpus_file=corpus_file)\n",
        "\n",
        "# train the model\n",
        "model.train(\n",
        "    corpus_file=corpus_file, epochs=model.epochs,\n",
        "    total_examples=model.corpus_count, total_words=model.corpus_total_words,\n",
        ")\n",
        "\n",
        "ft = model.wv"
      ],
      "metadata": {
        "id": "fX29dWETqS7N",
        "outputId": "0e02d53a-1e6e-4164-cf5a-eb6e124208c6",
        "colab": {
          "base_uri": "https://localhost:8080/",
          "height": 235
        }
      },
      "execution_count": 102,
      "outputs": [
        {
          "output_type": "error",
          "ename": "TypeError",
          "evalue": "ignored",
          "traceback": [
            "\u001b[0;31m---------------------------------------------------------------------------\u001b[0m",
            "\u001b[0;31mTypeError\u001b[0m                                 Traceback (most recent call last)",
            "\u001b[0;32m<ipython-input-102-39aae9c61338>\u001b[0m in \u001b[0;36m<module>\u001b[0;34m\u001b[0m\n\u001b[1;32m      6\u001b[0m \u001b[0mcorpus_file\u001b[0m \u001b[0;34m=\u001b[0m \u001b[0mdatapath\u001b[0m\u001b[0;34m(\u001b[0m\u001b[0;34m'lee_background.cor'\u001b[0m\u001b[0;34m)\u001b[0m\u001b[0;34m\u001b[0m\u001b[0;34m\u001b[0m\u001b[0m\n\u001b[1;32m      7\u001b[0m \u001b[0;34m\u001b[0m\u001b[0m\n\u001b[0;32m----> 8\u001b[0;31m \u001b[0mmodel\u001b[0m \u001b[0;34m=\u001b[0m \u001b[0mFastText\u001b[0m\u001b[0;34m(\u001b[0m\u001b[0mvector_size\u001b[0m\u001b[0;34m=\u001b[0m\u001b[0;36m300\u001b[0m\u001b[0;34m)\u001b[0m\u001b[0;34m\u001b[0m\u001b[0;34m\u001b[0m\u001b[0m\n\u001b[0m\u001b[1;32m      9\u001b[0m \u001b[0;34m\u001b[0m\u001b[0m\n\u001b[1;32m     10\u001b[0m \u001b[0;31m# build the vocabulary\u001b[0m\u001b[0;34m\u001b[0m\u001b[0;34m\u001b[0m\u001b[0;34m\u001b[0m\u001b[0m\n",
            "\u001b[0;31mTypeError\u001b[0m: __init__() got an unexpected keyword argument 'vector_size'"
          ]
        }
      ]
    },
    {
      "cell_type": "code",
      "source": [
        "#get embedding_matrix using by Word2Vec\n",
        "import numpy as np\n",
        "embedding_matrix = np.zeros((vocab_size, 300))\n",
        "def get_vector(word):\n",
        "    if word in ft:\n",
        "        return ft[word]\n",
        "    else:\n",
        "        return None\n",
        "\n",
        "for word, i in tokenizer.word_index.items():\n",
        "    temp = get_vector(word)\n",
        "    if temp is not None:\n",
        "        embedding_matrix[i] = temp\n"
      ],
      "metadata": {
        "id": "jQKBNc1pqS-8"
      },
      "execution_count": null,
      "outputs": []
    },
    {
      "cell_type": "code",
      "source": [
        "oov = []\n",
        "for word, _ in tokenizer.word_index.items():\n",
        "    if word not in ft:\n",
        "        oov.append(word)\n",
        "print(len(oov))\n",
        "print(len(tokenizer.word_index.items()))"
      ],
      "metadata": {
        "id": "vCtCmDD9-FhB"
      },
      "execution_count": null,
      "outputs": []
    },
    {
      "cell_type": "markdown",
      "source": [
        "##4. Modeling"
      ],
      "metadata": {
        "id": "k05Vkr1viwi6"
      }
    },
    {
      "cell_type": "markdown",
      "source": [
        "####4-1. "
      ],
      "metadata": {
        "id": "mbdsCvlPi3Io"
      }
    },
    {
      "cell_type": "code",
      "source": [
        "import numpy as np\n",
        "import pandas as pd\n",
        "import tensorflow as tf\n",
        "import matplotlib.pyplot as plt\n",
        "import seaborn as sns\n",
        "from sklearn.model_selection import train_test_split\n",
        "from sklearn.preprocessing import LabelEncoder\n",
        "\n",
        "from keras.preprocessing import sequence\n",
        "from tensorflow.keras.preprocessing.sequence import pad_sequences\n",
        "from tensorflow.keras.models import Sequential\n",
        "from tensorflow.keras.layers import Dense, Embedding, GlobalAveragePooling1D\n",
        "from tensorflow.keras.preprocessing.text import Tokenizer\n",
        "\n",
        "from tensorflow.keras.preprocessing import sequence\n",
        "from tensorflow.keras.layers import LSTM\n",
        "from tensorflow.keras.datasets import imdb\n",
        "from tensorflow.keras.optimizers import RMSprop"
      ],
      "metadata": {
        "id": "xEIAZE42jSwD"
      },
      "execution_count": 119,
      "outputs": []
    },
    {
      "cell_type": "code",
      "source": [
        "maxlen = 250\n",
        "\n",
        "model = Sequential()\n",
        "model.add(Embedding(vocab_size, 300, weights=[embedding_matrix], input_length=maxlen, trainable=False))\n",
        "# model.add(GlobalAveragePooling1D()) # 입력되는 단어 벡터의 평균을 구하는 함수입니다.\n",
        "model.add(LSTM(300, input_shape=(maxlen, 1000))) # maxlen 길이의 문장이고, 원-핫벡터로 이루어진 데이터가 input으로 들어온다\n",
        "model.add(Dense(1000, activation='softmax'))\n",
        "model.summary()"
      ],
      "metadata": {
        "id": "I4KnS1kWi3hf",
        "outputId": "f0cee459-6442-46b8-f6e5-da1423c86b16",
        "colab": {
          "base_uri": "https://localhost:8080/"
        }
      },
      "execution_count": 116,
      "outputs": [
        {
          "output_type": "stream",
          "name": "stdout",
          "text": [
            "Model: \"sequential_9\"\n",
            "_________________________________________________________________\n",
            " Layer (type)                Output Shape              Param #   \n",
            "=================================================================\n",
            " embedding_8 (Embedding)     (None, 250, 300)          4035300   \n",
            "                                                                 \n",
            " lstm_5 (LSTM)               (None, 300)               721200    \n",
            "                                                                 \n",
            " dense_3 (Dense)             (None, 1000)              301000    \n",
            "                                                                 \n",
            "=================================================================\n",
            "Total params: 5,057,500\n",
            "Trainable params: 1,022,200\n",
            "Non-trainable params: 4,035,300\n",
            "_________________________________________________________________\n"
          ]
        }
      ]
    },
    {
      "cell_type": "code",
      "source": [
        "# model.compile(loss='binary_crossentropy', optimizer='adam', metrics=['acc'])\n",
        "\n",
        "optimizer = RMSprop(learning_rate=0.01)\n",
        "model.compile(loss='categorical_crossentropy', optimizer=optimizer)"
      ],
      "metadata": {
        "id": "TG3FuoplnupY"
      },
      "execution_count": 121,
      "outputs": []
    },
    {
      "cell_type": "code",
      "source": [
        "model.fit(X_pad, y, batch_size=64, epochs=10, validation_split=0.2)"
      ],
      "metadata": {
        "id": "Qf9DiNSypG62",
        "outputId": "7d6c05e5-31d6-4627-fe09-4e939234ca4d",
        "colab": {
          "base_uri": "https://localhost:8080/",
          "height": 728
        }
      },
      "execution_count": 122,
      "outputs": [
        {
          "output_type": "stream",
          "name": "stdout",
          "text": [
            "Epoch 1/10\n"
          ]
        },
        {
          "output_type": "error",
          "ename": "ValueError",
          "evalue": "ignored",
          "traceback": [
            "\u001b[0;31m---------------------------------------------------------------------------\u001b[0m",
            "\u001b[0;31mValueError\u001b[0m                                Traceback (most recent call last)",
            "\u001b[0;32m<ipython-input-122-0cee76b8b026>\u001b[0m in \u001b[0;36m<module>\u001b[0;34m\u001b[0m\n\u001b[0;32m----> 1\u001b[0;31m \u001b[0mmodel\u001b[0m\u001b[0;34m.\u001b[0m\u001b[0mfit\u001b[0m\u001b[0;34m(\u001b[0m\u001b[0mX_pad\u001b[0m\u001b[0;34m,\u001b[0m \u001b[0my\u001b[0m\u001b[0;34m,\u001b[0m \u001b[0mbatch_size\u001b[0m\u001b[0;34m=\u001b[0m\u001b[0;36m64\u001b[0m\u001b[0;34m,\u001b[0m \u001b[0mepochs\u001b[0m\u001b[0;34m=\u001b[0m\u001b[0;36m10\u001b[0m\u001b[0;34m,\u001b[0m \u001b[0mvalidation_split\u001b[0m\u001b[0;34m=\u001b[0m\u001b[0;36m0.2\u001b[0m\u001b[0;34m)\u001b[0m\u001b[0;34m\u001b[0m\u001b[0;34m\u001b[0m\u001b[0m\n\u001b[0m",
            "\u001b[0;32m/usr/local/lib/python3.7/dist-packages/keras/utils/traceback_utils.py\u001b[0m in \u001b[0;36merror_handler\u001b[0;34m(*args, **kwargs)\u001b[0m\n\u001b[1;32m     65\u001b[0m     \u001b[0;32mexcept\u001b[0m \u001b[0mException\u001b[0m \u001b[0;32mas\u001b[0m \u001b[0me\u001b[0m\u001b[0;34m:\u001b[0m  \u001b[0;31m# pylint: disable=broad-except\u001b[0m\u001b[0;34m\u001b[0m\u001b[0;34m\u001b[0m\u001b[0m\n\u001b[1;32m     66\u001b[0m       \u001b[0mfiltered_tb\u001b[0m \u001b[0;34m=\u001b[0m \u001b[0m_process_traceback_frames\u001b[0m\u001b[0;34m(\u001b[0m\u001b[0me\u001b[0m\u001b[0;34m.\u001b[0m\u001b[0m__traceback__\u001b[0m\u001b[0;34m)\u001b[0m\u001b[0;34m\u001b[0m\u001b[0;34m\u001b[0m\u001b[0m\n\u001b[0;32m---> 67\u001b[0;31m       \u001b[0;32mraise\u001b[0m \u001b[0me\u001b[0m\u001b[0;34m.\u001b[0m\u001b[0mwith_traceback\u001b[0m\u001b[0;34m(\u001b[0m\u001b[0mfiltered_tb\u001b[0m\u001b[0;34m)\u001b[0m \u001b[0;32mfrom\u001b[0m \u001b[0;32mNone\u001b[0m\u001b[0;34m\u001b[0m\u001b[0;34m\u001b[0m\u001b[0m\n\u001b[0m\u001b[1;32m     68\u001b[0m     \u001b[0;32mfinally\u001b[0m\u001b[0;34m:\u001b[0m\u001b[0;34m\u001b[0m\u001b[0;34m\u001b[0m\u001b[0m\n\u001b[1;32m     69\u001b[0m       \u001b[0;32mdel\u001b[0m \u001b[0mfiltered_tb\u001b[0m\u001b[0;34m\u001b[0m\u001b[0;34m\u001b[0m\u001b[0m\n",
            "\u001b[0;32m/usr/local/lib/python3.7/dist-packages/tensorflow/python/framework/func_graph.py\u001b[0m in \u001b[0;36mautograph_handler\u001b[0;34m(*args, **kwargs)\u001b[0m\n\u001b[1;32m   1145\u001b[0m           \u001b[0;32mexcept\u001b[0m \u001b[0mException\u001b[0m \u001b[0;32mas\u001b[0m \u001b[0me\u001b[0m\u001b[0;34m:\u001b[0m  \u001b[0;31m# pylint:disable=broad-except\u001b[0m\u001b[0;34m\u001b[0m\u001b[0;34m\u001b[0m\u001b[0m\n\u001b[1;32m   1146\u001b[0m             \u001b[0;32mif\u001b[0m \u001b[0mhasattr\u001b[0m\u001b[0;34m(\u001b[0m\u001b[0me\u001b[0m\u001b[0;34m,\u001b[0m \u001b[0;34m\"ag_error_metadata\"\u001b[0m\u001b[0;34m)\u001b[0m\u001b[0;34m:\u001b[0m\u001b[0;34m\u001b[0m\u001b[0;34m\u001b[0m\u001b[0m\n\u001b[0;32m-> 1147\u001b[0;31m               \u001b[0;32mraise\u001b[0m \u001b[0me\u001b[0m\u001b[0;34m.\u001b[0m\u001b[0mag_error_metadata\u001b[0m\u001b[0;34m.\u001b[0m\u001b[0mto_exception\u001b[0m\u001b[0;34m(\u001b[0m\u001b[0me\u001b[0m\u001b[0;34m)\u001b[0m\u001b[0;34m\u001b[0m\u001b[0;34m\u001b[0m\u001b[0m\n\u001b[0m\u001b[1;32m   1148\u001b[0m             \u001b[0;32melse\u001b[0m\u001b[0;34m:\u001b[0m\u001b[0;34m\u001b[0m\u001b[0;34m\u001b[0m\u001b[0m\n\u001b[1;32m   1149\u001b[0m               \u001b[0;32mraise\u001b[0m\u001b[0;34m\u001b[0m\u001b[0;34m\u001b[0m\u001b[0m\n",
            "\u001b[0;31mValueError\u001b[0m: in user code:\n\n    File \"/usr/local/lib/python3.7/dist-packages/keras/engine/training.py\", line 1021, in train_function  *\n        return step_function(self, iterator)\n    File \"/usr/local/lib/python3.7/dist-packages/keras/engine/training.py\", line 1010, in step_function  **\n        outputs = model.distribute_strategy.run(run_step, args=(data,))\n    File \"/usr/local/lib/python3.7/dist-packages/keras/engine/training.py\", line 1000, in run_step  **\n        outputs = model.train_step(data)\n    File \"/usr/local/lib/python3.7/dist-packages/keras/engine/training.py\", line 860, in train_step\n        loss = self.compute_loss(x, y, y_pred, sample_weight)\n    File \"/usr/local/lib/python3.7/dist-packages/keras/engine/training.py\", line 919, in compute_loss\n        y, y_pred, sample_weight, regularization_losses=self.losses)\n    File \"/usr/local/lib/python3.7/dist-packages/keras/engine/compile_utils.py\", line 201, in __call__\n        loss_value = loss_obj(y_t, y_p, sample_weight=sw)\n    File \"/usr/local/lib/python3.7/dist-packages/keras/losses.py\", line 141, in __call__\n        losses = call_fn(y_true, y_pred)\n    File \"/usr/local/lib/python3.7/dist-packages/keras/losses.py\", line 245, in call  **\n        return ag_fn(y_true, y_pred, **self._fn_kwargs)\n    File \"/usr/local/lib/python3.7/dist-packages/keras/losses.py\", line 1790, in categorical_crossentropy\n        y_true, y_pred, from_logits=from_logits, axis=axis)\n    File \"/usr/local/lib/python3.7/dist-packages/keras/backend.py\", line 5083, in categorical_crossentropy\n        target.shape.assert_is_compatible_with(output.shape)\n\n    ValueError: Shapes (None, 1) and (None, 1000) are incompatible\n"
          ]
        }
      ]
    },
    {
      "cell_type": "code",
      "source": [],
      "metadata": {
        "id": "9EZgh8cDrcZz"
      },
      "execution_count": null,
      "outputs": []
    },
    {
      "cell_type": "code",
      "source": [
        "model = tf.keras.models.Sequential()\n",
        "model.add(tf.keras.layers.Flatten(input_shape=(28, 28)))\n",
        "model.add(tf.keras.layers.Dense(100, activation='relu'))\n",
        "model.add(tf.keras.layers.Dense(10, activation='softmax'))\n",
        "model.summary()"
      ],
      "metadata": {
        "id": "6TimTRB8rchW",
        "outputId": "3347f40a-0344-4404-952a-060c6b1848d0",
        "colab": {
          "base_uri": "https://localhost:8080/"
        }
      },
      "execution_count": 123,
      "outputs": [
        {
          "output_type": "stream",
          "name": "stdout",
          "text": [
            "Model: \"sequential_10\"\n",
            "_________________________________________________________________\n",
            " Layer (type)                Output Shape              Param #   \n",
            "=================================================================\n",
            " flatten (Flatten)           (None, 784)               0         \n",
            "                                                                 \n",
            " dense_4 (Dense)             (None, 100)               78500     \n",
            "                                                                 \n",
            " dense_5 (Dense)             (None, 10)                1010      \n",
            "                                                                 \n",
            "=================================================================\n",
            "Total params: 79,510\n",
            "Trainable params: 79,510\n",
            "Non-trainable params: 0\n",
            "_________________________________________________________________\n"
          ]
        }
      ]
    }
  ]
}